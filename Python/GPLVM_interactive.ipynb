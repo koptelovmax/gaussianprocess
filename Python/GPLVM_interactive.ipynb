{
 "cells": [
  {
   "cell_type": "markdown",
   "metadata": {},
   "source": [
    "# Interactive version of GPLVM"
   ]
  },
  {
   "cell_type": "code",
   "execution_count": 1,
   "metadata": {
    "collapsed": false
   },
   "outputs": [],
   "source": [
    "import sys\n",
    "\n",
    "import random\n",
    "import numpy as np\n",
    "import numpy.random\n",
    "\n",
    "import matplotlib\n",
    "matplotlib.use(\"Qt5Agg\")\n",
    "from PyQt5 import QtGui, QtCore, QtWidgets\n",
    "from PyQt5.QtCore import QPointF\n",
    "from PyQt5.QtWidgets import QSizePolicy\n",
    "from matplotlib.backends.backend_qt5agg import FigureCanvasQTAgg as FigureCanvas\n",
    "from matplotlib.figure import Figure"
   ]
  },
  {
   "cell_type": "code",
   "execution_count": 2,
   "metadata": {
    "collapsed": true
   },
   "outputs": [],
   "source": [
    "class RenderAndMouse(QtWidgets.QWidget):\n",
    "    def __init__(self, parent, viewport, cb):\n",
    "        super().__init__(parent)\n",
    "        self.viewport = viewport\n",
    "        self.data = [[-1,-1], (1,0), (1,1)]\n",
    "        self.setMouseTracking(True)\n",
    "        self.setMinimumSize(300, 300)\n",
    "        self.mousemove = cb\n",
    "    def mouseMoveEvent(self, event):\n",
    "        #print(event.pos(), self.size())\n",
    "        vp = self.viewport\n",
    "        w, h = self.width(), self.height()\n",
    "        x = event.x() / w * (vp[2] - vp[0]) + vp[0]\n",
    "        y = vp[3] - event.y() / h * (vp[3] - vp[1])\n",
    "        self.mousemove(x, y)\n",
    "    def sizeHint(self):\n",
    "        return QtCore.QSize(self.parent().width(), 400)\n",
    "    def feed(self, data):\n",
    "        self.data = data\n",
    "        self.repaint()\n",
    "    def paintEvent(self, QPaintEvent):\n",
    "        vp = self.viewport\n",
    "        w, h = self.width(), self.height()\n",
    "        def tr(p):\n",
    "            u, v = p\n",
    "            x = (u - vp[0]) / (vp[2] - vp[0]) * w\n",
    "            y = (v - vp[1]) / (vp[3] - vp[1]) * h\n",
    "            return QPointF(x, h-y)\n",
    "        paint = QtGui.QPainter()\n",
    "        paint.begin(self)\n",
    "        #self.data[0][0] = -random.random()\n",
    "        paint.drawPolyline(*[tr(p) for p in self.data])\n",
    "        paint.end()"
   ]
  },
  {
   "cell_type": "code",
   "execution_count": 3,
   "metadata": {
    "collapsed": true
   },
   "outputs": [],
   "source": [
    "class MatplotlibCanvas(FigureCanvas):\n",
    "    def __init__(self, parent=None, width=5, height=4, dpi=100):\n",
    "        fig = Figure(figsize=(width, height), dpi=dpi)\n",
    "        self.axes = fig.add_subplot(111)\n",
    "        # We want the axes cleared every time plot() is called\n",
    "        self.axes.hold(False)\n",
    "\n",
    "        self.compute_initial_figure()\n",
    "\n",
    "        #\n",
    "        FigureCanvas.__init__(self, fig)\n",
    "        self.setParent(parent)\n",
    "\n",
    "        FigureCanvas.setSizePolicy(self,\n",
    "                QSizePolicy.Expanding,\n",
    "                QSizePolicy.Expanding)\n",
    "        FigureCanvas.updateGeometry(self)\n",
    "\n",
    "    def compute_initial_figure(self):\n",
    "        pass"
   ]
  },
  {
   "cell_type": "code",
   "execution_count": 4,
   "metadata": {
    "collapsed": true
   },
   "outputs": [],
   "source": [
    "class PredictedFrame(MatplotlibCanvas):\n",
    "    \"\"\"A canvas that updates itself every second with a new plot.\"\"\"\n",
    "    def __init__(self, *args, **kwargs):\n",
    "        super().__init__(*args, **kwargs)\n",
    "        #timer = QtCore.QTimer(self)\n",
    "        #timer.timeout.connect(self.update_figure)\n",
    "        #timer.start(1000)\n",
    "\n",
    "    def compute_initial_figure(self):\n",
    "        #self.axes.plot([0, 1, 2, 3], [1, 2, 0, 4], 'r')\n",
    "        pass\n",
    "\n",
    "    def update_figure(self, data):\n",
    "        self.axes.imshow(data, cmap='Greys_r')\n",
    "        self.draw()"
   ]
  },
  {
   "cell_type": "code",
   "execution_count": 5,
   "metadata": {
    "collapsed": true
   },
   "outputs": [],
   "source": [
    "class Explorer(QtWidgets.QMainWindow):\n",
    "    def __init__(self, produce_image):\n",
    "        self.produce_image = produce_image\n",
    "        QtWidgets.QMainWindow.__init__(self)\n",
    "        pane = QtWidgets.QWidget()\n",
    "        self.setCentralWidget(pane)\n",
    "        layout = QtWidgets.QVBoxLayout()\n",
    "        pane.setLayout(layout)\n",
    "\n",
    "        self.r_and_m = RenderAndMouse(self, (-3, -3, 3, 3), self.regenerate_image)\n",
    "        self.predicted = PredictedFrame()\n",
    "        layout.addWidget(self.r_and_m)\n",
    "        layout.addWidget(self.predicted)\n",
    "        #self.edit = QtWidgets.QLineEdit(self)\n",
    "        self.updateGeometry()\n",
    "        self.regenerate_image(0, 0)\n",
    "    def regenerate_image(self, x, y):\n",
    "        im, x2d = self.produce_image(x, y)\n",
    "        self.r_and_m.feed(x2d)\n",
    "        self.predicted.update_figure(im)"
   ]
  },
  {
   "cell_type": "code",
   "execution_count": 6,
   "metadata": {
    "collapsed": true
   },
   "outputs": [],
   "source": [
    "def save_list(fname, l):\n",
    "    f = open(fname, \"wb\")\n",
    "    for e in l:\n",
    "        np.save(f, e)\n",
    "    f.close()\n",
    "    \n",
    "def load_list(fname, count):\n",
    "    f = open(fname,\"rb\")\n",
    "    res = [np.load(f) for _ in range(count)]\n",
    "    f.close()\n",
    "    return list(res)"
   ]
  },
  {
   "cell_type": "code",
   "execution_count": 7,
   "metadata": {
    "collapsed": false
   },
   "outputs": [],
   "source": [
    "import cv2\n",
    "import GPy\n",
    "import os\n",
    "\n",
    "w,h = 120,90\n",
    "sample = np.load('data/samplevideo.npy')\n",
    "N = sample.shape[0] # count of samples\n",
    "D = sample.shape[1] # dimensionality of observed space\n",
    "Q = 20 # dimensionality of the latent space\n",
    "X = np.zeros((N,Q)) # Initialize the latent variable\n",
    "#normilizing data:\n",
    "sample_mean = np.mean(sample, 0)\n",
    "sample_std = np.std(sample, 0)\n",
    "sample = (sample - sample_mean)/sample_std # normalization\n",
    "\n",
    "kernel = GPy.kern.RBF(Q,ARD=True)\n",
    "if os.path.exists(\"cache.npy\"):\n",
    "    (X, Kx) = load_list(\"cache.npy\", 2)\n",
    "else:\n",
    "    m = GPy.models.GPLVM(sample, input_dim=Q, kernel=kernel, init='PCA')\n",
    "    m.optimize(messages=True, optimizer = 'SCG', max_iters=1000)\n",
    "    X = m.X\n",
    "    Kx = kernel.K(X[0:N-1])\n",
    "    save_list(\"cache.npy\", [X, Kx])\n",
    "    kernel = None # prevent reusing the kernel as it is not saved/reloaded properly \n",
    "N_synt = 1\n",
    "X_synt = np.zeros((N_synt,Q))\n",
    "Kx_inv = np.linalg.inv(Kx)\n",
    "X_synt[0,:] = X[N-1:N]"
   ]
  },
  {
   "cell_type": "code",
   "execution_count": null,
   "metadata": {
    "collapsed": true
   },
   "outputs": [],
   "source": [
    "def produce_image(x0, x1):\n",
    "    X_synt[0,0] = x0\n",
    "    X_synt[0,1] = x1\n",
    "    Y_synt = np.zeros((N_synt,D))\n",
    "\n",
    "    kernel2 = GPy.kern.RBF(Q,ARD=True)\n",
    "    Ky = kernel2.K(X)\n",
    "    Ky_inv = np.linalg.inv(Ky)\n",
    "    Y_t = np.transpose(sample)\n",
    "    \n",
    "    k_y = kernel2.K(X,X_synt)\n",
    "    k_yy = kernel2.K(X_synt,X_synt)\n",
    "    meann = np.matmul(np.matmul(Y_t,Ky_inv),k_y)\n",
    "    cov = (k_yy - np.matmul(np.matmul(np.transpose(k_y),Ky_inv),k_y))\n",
    "    for i in range(D):\n",
    "        Y_synt[:,i] = np.matmul(cov,np.random.randn(N_synt)) + meann[i,:]\n",
    "    frame = Y_synt[0,:]\n",
    "    return frame.reshape((h,w)), X[:, 0:2]"
   ]
  },
  {
   "cell_type": "code",
   "execution_count": null,
   "metadata": {
    "collapsed": false
   },
   "outputs": [],
   "source": [
    "if __name__ == '__main__':\n",
    "    import sys\n",
    "    app = QtWidgets.QApplication(sys.argv)\n",
    "    win = Explorer(produce_image)\n",
    "    win.show()\n",
    "    sys.exit(app.exec_())\n",
    "\n",
    "sys.exit()"
   ]
  }
 ],
 "metadata": {
  "kernelspec": {
   "display_name": "Python 3",
   "language": "python",
   "name": "python3"
  },
  "language_info": {
   "codemirror_mode": {
    "name": "ipython",
    "version": 3
   },
   "file_extension": ".py",
   "mimetype": "text/x-python",
   "name": "python",
   "nbconvert_exporter": "python",
   "pygments_lexer": "ipython3",
   "version": "3.5.1"
  }
 },
 "nbformat": 4,
 "nbformat_minor": 0
}
