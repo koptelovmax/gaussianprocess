{
 "cells": [
  {
   "cell_type": "markdown",
   "metadata": {},
   "source": [
    "# Missing frames estimation"
   ]
  },
  {
   "cell_type": "markdown",
   "metadata": {},
   "source": [
    "### 1. PCA for initialization\n",
    "\n",
    "Remove frames before, we'll get something at the end.\n",
    "\n",
    "Problem: how to represent missing frame? Just zeroes?\n",
    "\n",
    "We can, but there is a warning *\"Columns of X are linearly dependent to within machine precision\"*.\n",
    "\n",
    "### 2. SCG\n",
    "\n",
    "Read how it works?\n",
    "\n",
    "### 3. SampleReconstruction\n",
    "\n",
    "Depends on original data as well. How can be represented? By zero values? Check it.\n",
    "\n",
    "\n"
   ]
  },
  {
   "cell_type": "markdown",
   "metadata": {},
   "source": [
    "# How to estimate one missing frame?"
   ]
  },
  {
   "cell_type": "markdown",
   "metadata": {},
   "source": [
    "Use N frames in X while use N-1 only for Y"
   ]
  },
  {
   "cell_type": "markdown",
   "metadata": {},
   "source": [
    "Problem: how to match dimensionalities in function 1 and its gradient?"
   ]
  },
  {
   "cell_type": "code",
   "execution_count": null,
   "metadata": {
    "collapsed": true
   },
   "outputs": [],
   "source": []
  }
 ],
 "metadata": {
  "kernelspec": {
   "display_name": "Python 3",
   "language": "python",
   "name": "python3"
  },
  "language_info": {
   "codemirror_mode": {
    "name": "ipython",
    "version": 3
   },
   "file_extension": ".py",
   "mimetype": "text/x-python",
   "name": "python",
   "nbconvert_exporter": "python",
   "pygments_lexer": "ipython3",
   "version": "3.5.1"
  }
 },
 "nbformat": 4,
 "nbformat_minor": 0
}
