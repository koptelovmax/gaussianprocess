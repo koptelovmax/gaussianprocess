{
 "cells": [
  {
   "cell_type": "markdown",
   "metadata": {},
   "source": [
    "# Preprocessing"
   ]
  },
  {
   "cell_type": "markdown",
   "metadata": {},
   "source": [
    "**Step 0:** Install OpenCV - open source Computer Vision library for image and video processing in programming languages. To install it for Jupyter Notebook for Windows download proper *.whl* installation file from here: http://www.lfd.uci.edu/~gohlke/pythonlibs/ then run *cmd* and type **pip install *filename*.whl**"
   ]
  },
  {
   "cell_type": "markdown",
   "metadata": {},
   "source": [
    "**Step 1:** Open a video file using OpenCV and get some information about it"
   ]
  },
  {
   "cell_type": "code",
   "execution_count": 2,
   "metadata": {
    "collapsed": false
   },
   "outputs": [
    {
     "name": "stdout",
     "output_type": "stream",
     "text": [
      "250 352 288 25\n"
     ]
    }
   ],
   "source": [
    "import cv2\n",
    "\n",
    "cap = cv2.VideoCapture('data/straw.avi') \n",
    "\n",
    "# get some information\n",
    "length = int(cap.get(cv2.CAP_PROP_FRAME_COUNT))\n",
    "width  = int(cap.get(cv2.CAP_PROP_FRAME_WIDTH))\n",
    "height = int(cap.get(cv2.CAP_PROP_FRAME_HEIGHT))\n",
    "fps    = int(cap.get(cv2.CAP_PROP_FPS))\n",
    "\n",
    "print(length, width, height, fps)\n",
    "\n",
    "while(True):\n",
    "    # Capture frame-by-frame\n",
    "    cap.read\n",
    "    ret, frame = cap.read()\n",
    "\n",
    "    if ret: # if video is not ended\n",
    "        # Display the resulting frame\n",
    "        cv2.imshow('frame',frame)\n",
    "    \n",
    "    if cv2.waitKey(1) & 0xFF == ord('q'):\n",
    "        break # quit when q is pressed\n",
    "        \n",
    "# When everything done, release the capture\n",
    "cap.release()\n",
    "cv2.destroyAllWindows()"
   ]
  },
  {
   "cell_type": "markdown",
   "metadata": {},
   "source": [
    "**Step 2:** Resize and convert to black and white (grayscale). Save the result as an array"
   ]
  },
  {
   "cell_type": "code",
   "execution_count": 3,
   "metadata": {
    "collapsed": false
   },
   "outputs": [
    {
     "name": "stdout",
     "output_type": "stream",
     "text": [
      "[[ 116.  121.  130. ...,  109.   67.   65.]\n",
      " [ 132.  123.  128. ...,  136.   80.  148.]\n",
      " [ 145.  125.  135. ...,  148.  113.  214.]\n",
      " ..., \n",
      " [  96.  146.  116. ...,  123.   82.  145.]\n",
      " [ 166.  135.  107. ...,  115.  141.  116.]\n",
      " [ 127.  183.  115. ...,  143.  126.  104.]]\n"
     ]
    }
   ],
   "source": [
    "import cv2\n",
    "\n",
    "cap = cv2.VideoCapture('data/straw.avi') \n",
    "\n",
    "import numpy as np\n",
    "\n",
    "s_len = 10 # sample length in seconds\n",
    "s_width = 120 # sample frame width in pixels\n",
    "s_height = 90 # sample frame height in pixels\n",
    "\n",
    "sample = np.zeros((fps*s_len,s_width*s_height))\n",
    "i = 0\n",
    "\n",
    "while(True):\n",
    "    # Capture frame-by-fraSteme\n",
    "    ret, frame = cap.read()\n",
    "\n",
    "    if ret: # if video is not ended\n",
    "        # Our operations on the frame come here\n",
    "        new_frame = cv2.resize(frame,(s_width,s_height)) # resize\n",
    "        new_frame = cv2.cvtColor(new_frame, cv2.COLOR_BGR2GRAY) # convert to b/w\n",
    "\n",
    "        # Save current frame to the sample array\n",
    "        if i < (fps*s_len):\n",
    "            sample[i,:] = np.array(new_frame).flatten()\n",
    "            i = i + 1\n",
    "        else:\n",
    "            break\n",
    "\n",
    "        # Display the resulting frame\n",
    "        cv2.imshow('new_frame',new_frame)\n",
    "\n",
    "    if cv2.waitKey(1) & 0xFF == ord('q'): \n",
    "        break # quit when q is pressed\n",
    "\n",
    "print(sample)\n",
    "       \n",
    "# When everything done, release the capture\n",
    "cap.release()\n",
    "cv2.destroyAllWindows()"
   ]
  },
  {
   "cell_type": "markdown",
   "metadata": {},
   "source": [
    "**Step 3:** Save, exit and close everything"
   ]
  },
  {
   "cell_type": "code",
   "execution_count": 4,
   "metadata": {
    "collapsed": true
   },
   "outputs": [],
   "source": [
    "# When everything done, release the capture\n",
    "cap.release()\n",
    "cv2.destroyAllWindows()\n",
    "# Save data to tmp file\n",
    "np.save('data\\samplevideo', sample)"
   ]
  },
  {
   "cell_type": "code",
   "execution_count": null,
   "metadata": {
    "collapsed": true
   },
   "outputs": [],
   "source": []
  }
 ],
 "metadata": {
  "kernelspec": {
   "display_name": "Python 3",
   "language": "python",
   "name": "python3"
  },
  "language_info": {
   "codemirror_mode": {
    "name": "ipython",
    "version": 3
   },
   "file_extension": ".py",
   "mimetype": "text/x-python",
   "name": "python",
   "nbconvert_exporter": "python",
   "pygments_lexer": "ipython3",
   "version": "3.5.1"
  }
 },
 "nbformat": 4,
 "nbformat_minor": 0
}
