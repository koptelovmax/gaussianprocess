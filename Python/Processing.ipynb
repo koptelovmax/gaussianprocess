{
 "cells": [
  {
   "cell_type": "markdown",
   "metadata": {},
   "source": [
    "# Processing"
   ]
  },
  {
   "cell_type": "markdown",
   "metadata": {},
   "source": [
    "### Initialization"
   ]
  },
  {
   "cell_type": "code",
   "execution_count": 68,
   "metadata": {
    "collapsed": false
   },
   "outputs": [
    {
     "name": "stdout",
     "output_type": "stream",
     "text": [
      "[ 134.  146.  151.  116.  168.  175.  151.  152.  161.  171.  184.  178.\n",
      "  161.  125.  145.  156.  170.  149.  148.  164.  168.  172.  162.  112.\n",
      "  153.  169.  136.  136.  139.  162.  131.  146.  135.  155.  169.  129.\n",
      "  150.  150.  156.  167.  165.  154.  155.  147.  150.  160.  156.  140.\n",
      "  152.  161.  141.  132.  133.  117.  143.  126.  125.  123.  165.  159.\n",
      "  157.  142.  141.  180.  140.  143.  126.  157.  142.  156.  142.  182.\n",
      "  174.  156.  168.  169.  149.  175.  159.  130.  185.  156.  116.  101.\n",
      "  161.  162.  185.  156.  148.  124.  132.  165.  167.  154.  138.  138.\n",
      "  155.  157.  151.  147.  140.  160.  169.  168.  165.  172.  171.  173.\n",
      "  161.  172.  165.  176.  153.  144.  152.  154.  165.  157.  155.  134.\n",
      "  168.  163.  133.  123.  120.  124.  144.  139.  162.  142.  104.  115.\n",
      "  123.  119.  124.  133.  134.  146.  157.  153.  147.  140.  148.  153.\n",
      "  144.  169.  149.  142.  134.  159.  159.  147.  171.  180.  171.  178.\n",
      "  150.  125.  138.  151.  156.  166.  154.  138.  154.  162.  187.  182.\n",
      "  169.  145.  144.  114.  140.  175.  159.  146.  142.  138.  137.  151.\n",
      "  129.  154.  155.  136.  140.  128.  125.  126.  131.  119.  118.  114.\n",
      "  120.  118.  130.  122.  119.  149.  158.  160.  174.  111.  142.  108.\n",
      "  144.  146.  134.  115.  139.  126.  156.  145.  153.  161.  150.  168.\n",
      "  152.  151.  119.  100.  120.  164.  130.  115.  146.  121.  108.  133.\n",
      "  119.  148.  104.  135.  128.  147.  164.  149.  147.  118.  107.  170.\n",
      "  169.  150.  150.  181.  157.  146.  135.  109.  177.  152.]\n"
     ]
    }
   ],
   "source": [
    "import numpy as np\n",
    "sample = np.load('data\\samplevideo.npy')\n",
    "print(sample[:,0])"
   ]
  },
  {
   "cell_type": "code",
   "execution_count": 89,
   "metadata": {
    "collapsed": false
   },
   "outputs": [
    {
     "name": "stdout",
     "output_type": "stream",
     "text": [
      "[[ 23.73651164 -20.94734111  23.281226   ...,   4.97089492  -7.19820107\n",
      "   13.64289273]\n",
      " [ 27.32166362 -26.17117093  30.51346662 ...,   5.31042802  -3.90021055\n",
      "    6.96400856]\n",
      " [ 26.23488005 -28.1899192   29.81997129 ...,   6.88485175  -3.33337264\n",
      "    2.68275034]\n",
      " ..., \n",
      " [ -7.47424951 -22.09849862  16.11440062 ...,  11.91163886   3.49564572\n",
      "   13.00946041]\n",
      " [  4.99655619 -19.65781084  12.97498904 ...,   4.28578476   8.66982982\n",
      "    7.2620896 ]\n",
      " [ 11.75766947  -9.51504745  10.57365739 ...,   5.78658013  13.88101326\n",
      "    3.16272507]]\n"
     ]
    }
   ],
   "source": [
    "# Initialize the latent variable using PCA:\n",
    "from sklearn.decomposition import PCA\n",
    "\n",
    "N = sample.shape[0] # count of samples\n",
    "D = sample.shape[1] # dimensionality of observed space\n",
    "Q = 20 # dimensionality of observed space\n",
    "\n",
    "X = np.zeros((N,Q)) # Initialize the latent variable\n",
    "\n",
    "sample = (sample - np.mean(sample, 0)) / np.std(sample, 0) # normalization\n",
    "pca = PCA(n_components=Q) \n",
    "X = pca.fit_transform(sample) # performing PCA\n",
    "print(X)"
   ]
  },
  {
   "cell_type": "markdown",
   "metadata": {
    "collapsed": false
   },
   "source": [
    "### Optimization"
   ]
  },
  {
   "cell_type": "code",
   "execution_count": 82,
   "metadata": {
    "collapsed": true
   },
   "outputs": [],
   "source": [
    "def weight_likelihood(Q,N,Kx,X,W):\n",
    "    alpha = 1\n",
    "    Kx_inv = np.linalg.inv(Kx)\n",
    "    part1 = 0.5*Q*np.log(np.linalg.det(Kx_inv))\n",
    "    part2 = 0.5*np.trace(Kx_inv*np.matmul(X[1:N],np.transpose(X)[1:N]))\n",
    "    part3 = alpha*np.linalg.norm(W,2)\n",
    "    print(part1)\n",
    "    return part1 + part2 + part3"
   ]
  },
  {
   "cell_type": "code",
   "execution_count": 91,
   "metadata": {
    "collapsed": true
   },
   "outputs": [],
   "source": [
    "# [params, options, flog] = scg('mk_likelihood', params, options, 'mk_gradient', Y, segments, kern)\n",
    "\n",
    "# write function to compute Kx\n",
    "# write function to compute Ky\n",
    "# check weight_likelihood and mk_likelihood with Kx and Ky and rewrite if necessary\n",
    "\n",
    "#write mk_weightsConstrain function\n",
    "#write mk_priorIO function\n",
    "#finish function weight_gradient\n",
    "\n",
    "# finish function mk_gradient\n",
    "# search for kern gradients\n",
    "\n",
    "# find scg function for Python"
   ]
  },
  {
   "cell_type": "code",
   "execution_count": 87,
   "metadata": {
    "collapsed": false
   },
   "outputs": [
    {
     "name": "stdout",
     "output_type": "stream",
     "text": [
      "0.0\n",
      "233.039392014\n",
      "9.53939201417\n"
     ]
    }
   ],
   "source": [
    "# weight_likelihood test:\n",
    "a = [[1,0,0],[0,1,0],[0,0,1]]\n",
    "x = [9,8,7,6]\n",
    "c = [1,2,3,4,5,6]\n",
    "\n",
    "print(weight_likelihood(20,4,a,x,c))\n",
    "print(np.linalg.norm(c,2))"
   ]
  },
  {
   "cell_type": "code",
   "execution_count": 75,
   "metadata": {
    "collapsed": false
   },
   "outputs": [
    {
     "data": {
      "text/plain": [
       "2304584.0"
      ]
     },
     "execution_count": 75,
     "metadata": {},
     "output_type": "execute_result"
    }
   ],
   "source": [
    "np.sum(sample[0])"
   ]
  },
  {
   "cell_type": "code",
   "execution_count": 76,
   "metadata": {
    "collapsed": true
   },
   "outputs": [],
   "source": [
    "def mk_likelihood(D,Q,N,Kx,Ky,X,Y,theta,lamb):\n",
    "    C = 0\n",
    "    Kx_inv = np.linalg.inv(Kx)\n",
    "    Ky_inv = np.linalg.inv(Ky)\n",
    "    part1 = 0.5*D*np.log(np.linalg.det(Ky))\n",
    "    part2 = 0.5*np.matmul(np.transpose(Y),np.matmul(Ky_inv,Y))\n",
    "    part3 = 0.5*Q*np.log(np.linalg.det(Kx_inv))\n",
    "    part4 = 0.5*np.trace(Kx_inv*np.matmul(X[1:N],np.transpose(X)[1:N]))\n",
    "    part5 = np.sum(theta)\n",
    "    part6 = np.sum(lamb)\n",
    "    return part1 + part2 + part3 + part4 + part5 + part6 + C"
   ]
  },
  {
   "cell_type": "code",
   "execution_count": null,
   "metadata": {
    "collapsed": true
   },
   "outputs": [],
   "source": [
    "def weight_gradient(Q,N,Kx,X,W):\n",
    "    \n",
    "    #params = mk_weightsConstrain(params)\n",
    "    \n",
    "    #[Xin, Xout] = mk_priorIO(X, segments)\n",
    "    \n",
    "    Kx_inv = np.linalg.inv(Kx)\n",
    "    #dL_dKx = -Q/2*invKx + 0.5*invKx*(Xout*Xout')*invKx\n",
    "    \n",
    "    #g = zeros(length(kern.comp),1)\n",
    "    \n",
    "    #for i = 1:length(kern.comp)\n",
    "    #    g(i) = sum(sum(dL_dKx .* Kx{i}))\n",
    "    \n",
    "    norm2 = 1/np.linalg.norm(W,2)\n",
    "    \n",
    "    #for i = 1:length(kern.comp)\n",
    "    #    g(i) = g(i) + norm2 * params(i)\n",
    "    \n",
    "    g = g/np.linalg.norm(g2)\n",
    "    \n",
    "    return -np.transpose(g)"
   ]
  },
  {
   "cell_type": "code",
   "execution_count": null,
   "metadata": {
    "collapsed": true
   },
   "outputs": [],
   "source": [
    "def mk_gradient(Q,N,Kx,X,W):\n",
    "    \n",
    "    #dL_dX = \n",
    "    \n",
    "    #dL_dTheta = \n",
    "    \n",
    "    #dL_dLambd = \n",
    "    \n",
    "    return [dL_dX, dL_dTheta, dL_dLambd]"
   ]
  }
 ],
 "metadata": {
  "kernelspec": {
   "display_name": "Python 3",
   "language": "python",
   "name": "python3"
  },
  "language_info": {
   "codemirror_mode": {
    "name": "ipython",
    "version": 3
   },
   "file_extension": ".py",
   "mimetype": "text/x-python",
   "name": "python",
   "nbconvert_exporter": "python",
   "pygments_lexer": "ipython3",
   "version": "3.5.1"
  }
 },
 "nbformat": 4,
 "nbformat_minor": 0
}
