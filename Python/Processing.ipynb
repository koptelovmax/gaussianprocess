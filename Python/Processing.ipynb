{
 "cells": [
  {
   "cell_type": "markdown",
   "metadata": {},
   "source": [
    "# Processing"
   ]
  },
  {
   "cell_type": "markdown",
   "metadata": {},
   "source": [
    "### Initialization"
   ]
  },
  {
   "cell_type": "code",
   "execution_count": 1,
   "metadata": {
    "collapsed": false
   },
   "outputs": [
    {
     "name": "stdout",
     "output_type": "stream",
     "text": [
      "[ 134.  146.  151.  116.  168.  175.  151.  152.  161.  171.  184.  178.\n",
      "  161.  125.  145.  156.  170.  149.  148.  164.  168.  172.  162.  112.\n",
      "  153.  169.  136.  136.  139.  162.  131.  146.  135.  155.  169.  129.\n",
      "  150.  150.  156.  167.  165.  154.  155.  147.  150.  160.  156.  140.\n",
      "  152.  161.  141.  132.  133.  117.  143.  126.  125.  123.  165.  159.\n",
      "  157.  142.  141.  180.  140.  143.  126.  157.  142.  156.  142.  182.\n",
      "  174.  156.  168.  169.  149.  175.  159.  130.  185.  156.  116.  101.\n",
      "  161.  162.  185.  156.  148.  124.  132.  165.  167.  154.  138.  138.\n",
      "  155.  157.  151.  147.  140.  160.  169.  168.  165.  172.  171.  173.\n",
      "  161.  172.  165.  176.  153.  144.  152.  154.  165.  157.  155.  134.\n",
      "  168.  163.  133.  123.  120.  124.  144.  139.  162.  142.  104.  115.\n",
      "  123.  119.  124.  133.  134.  146.  157.  153.  147.  140.  148.  153.\n",
      "  144.  169.  149.  142.  134.  159.  159.  147.  171.  180.  171.  178.\n",
      "  150.  125.  138.  151.  156.  166.  154.  138.  154.  162.  187.  182.\n",
      "  169.  145.  144.  114.  140.  175.  159.  146.  142.  138.  137.  151.\n",
      "  129.  154.  155.  136.  140.  128.  125.  126.  131.  119.  118.  114.\n",
      "  120.  118.  130.  122.  119.  149.  158.  160.  174.  111.  142.  108.\n",
      "  144.  146.  134.  115.  139.  126.  156.  145.  153.  161.  150.  168.\n",
      "  152.  151.  119.  100.  120.  164.  130.  115.  146.  121.  108.  133.\n",
      "  119.  148.  104.  135.  128.  147.  164.  149.  147.  118.  107.  170.\n",
      "  169.  150.  150.  181.  157.  146.  135.  109.  177.  152.]\n"
     ]
    }
   ],
   "source": [
    "import numpy as np\n",
    "sample = np.load('data\\samplevideo.npy')\n",
    "print(sample[:,0])"
   ]
  },
  {
   "cell_type": "code",
   "execution_count": 80,
   "metadata": {
    "collapsed": false
   },
   "outputs": [
    {
     "name": "stdout",
     "output_type": "stream",
     "text": [
      "[ 23.73651164 -20.94734111  23.281226    22.6802055   -7.50919708\n",
      "  34.30870091 -12.46201579   8.07417771 -12.95784813   9.80002935\n",
      "  -6.88500422   0.63095893 -13.29798142  19.54781085  -4.42927045\n",
      "   2.70507576  -5.53067023   4.97089492  -7.19820107  13.64289273]\n"
     ]
    }
   ],
   "source": [
    "# Initialize the latent variable using PCA:\n",
    "from sklearn.decomposition import PCA\n",
    "\n",
    "N = sample.shape[0] # count of samples\n",
    "D = sample.shape[1] # dimensionality of observed space\n",
    "Q = 20 # dimensionality of observed space\n",
    "\n",
    "X = np.zeros((N,Q)) # Initialize the latent variable\n",
    "\n",
    "sample = (sample - np.mean(sample, 0)) / np.std(sample, 0) # normalization\n",
    "pca = PCA(n_components=Q) \n",
    "X = pca.fit_transform(sample) # performing PCA\n",
    "print(X[0,:])"
   ]
  },
  {
   "cell_type": "markdown",
   "metadata": {
    "collapsed": false
   },
   "source": [
    "### Optimization"
   ]
  },
  {
   "cell_type": "code",
   "execution_count": 3,
   "metadata": {
    "collapsed": true
   },
   "outputs": [],
   "source": [
    "from sympy import KroneckerDelta\n",
    "\n",
    "def K_x(w,x1,x2):\n",
    "    \n",
    "    #k1 = ?\n",
    "    #k2 = ?\n",
    "    #k3 = ?\n",
    "    #k4 = ?\n",
    "    #k5 = ?\n",
    "    #k6 = ?\n",
    "    \n",
    "    return w[0]*k1(x1,x2)+w[1]*k2(x1,x2)+w[2]*k3(x1,x2)+w[3]*k4(x1,x2)+w[4]*k5(x1,x2)+w[5]*k6(x1,x2)+w[6]*KroneckerDelta(x1,x2)"
   ]
  },
  {
   "cell_type": "code",
   "execution_count": 73,
   "metadata": {
    "collapsed": true
   },
   "outputs": [],
   "source": [
    "def K_y(theta,x1,x2):\n",
    "    \n",
    "    return theta[0]*np.exp(-0.5*theta[1]*np.matmul((x1 - x2),np.transpose(x1 - x2)))# + theta[2]*KroneckerDelta(x1,x2)"
   ]
  },
  {
   "cell_type": "code",
   "execution_count": 5,
   "metadata": {
    "collapsed": true
   },
   "outputs": [],
   "source": [
    "def weight_likelihood(Q,N,Kx,X,W):\n",
    "    alpha = 1\n",
    "    Kx_inv = np.linalg.inv(Kx)\n",
    "    part1 = 0.5*Q*np.log(np.linalg.det(Kx_inv))\n",
    "    part2 = 0.5*np.trace(Kx_inv*np.matmul(X[1:N],np.transpose(X)[1:N]))\n",
    "    part3 = alpha*np.linalg.norm(W,2)\n",
    "    print(part1)\n",
    "    return part1 + part2 + part3"
   ]
  },
  {
   "cell_type": "code",
   "execution_count": 20,
   "metadata": {
    "collapsed": true
   },
   "outputs": [],
   "source": [
    "# [params, options, flog] = scg('mk_likelihood', params, options, 'mk_gradient', Y, segments, kern)\n",
    "\n",
    "# check weight_likelihood and mk_likelihood with Kx and Ky and rewrite if necessary\n",
    "\n",
    "#write mk_weightsConstrain function\n",
    "#write mk_priorIO function\n",
    "#finish function weight_gradient\n",
    "\n",
    "# search for kern gradients\n",
    "\n",
    "# find scg function for Python"
   ]
  },
  {
   "cell_type": "code",
   "execution_count": 22,
   "metadata": {
    "collapsed": false
   },
   "outputs": [
    {
     "data": {
      "text/plain": [
       "array([[ 23.73651164, -20.94734111,  23.281226  , ...,   4.97089492,\n",
       "         -7.19820107,  13.64289273],\n",
       "       [ 27.32166362, -26.17117093,  30.51346662, ...,   5.31042802,\n",
       "         -3.90021055,   6.96400856],\n",
       "       [ 26.23488005, -28.1899192 ,  29.81997129, ...,   6.88485175,\n",
       "         -3.33337264,   2.68275034],\n",
       "       ..., \n",
       "       [ -7.47424951, -22.09849862,  16.11440062, ...,  11.91163886,\n",
       "          3.49564572,  13.00946041],\n",
       "       [  4.99655619, -19.65781084,  12.97498904, ...,   4.28578476,\n",
       "          8.66982982,   7.2620896 ],\n",
       "       [ 11.75766947,  -9.51504745,  10.57365739, ...,   5.78658013,\n",
       "         13.88101326,   3.16272507]])"
      ]
     },
     "execution_count": 22,
     "metadata": {},
     "output_type": "execute_result"
    }
   ],
   "source": [
    "X"
   ]
  },
  {
   "cell_type": "code",
   "execution_count": 79,
   "metadata": {
    "collapsed": false
   },
   "outputs": [
    {
     "name": "stdout",
     "output_type": "stream",
     "text": [
      "[[  1.00000000e+000   3.14494244e-013   1.18957223e-021 ...,\n",
      "    1.22089025e-020   1.82948616e-054   5.27544368e-036]\n",
      " [  3.14494244e-013   1.00000000e+000   4.73842438e-013 ...,\n",
      "    1.33951030e-017   1.33519304e-068   2.09827932e-024]\n",
      " [  1.18957223e-021   4.73842438e-013   1.00000000e+000 ...,\n",
      "    1.08037196e-022   6.66583276e-062   6.76227831e-054]\n",
      " ..., \n",
      " [  1.22089025e-020   1.33951030e-017   1.08037196e-022 ...,\n",
      "    1.00000000e+000   2.78471019e-074   6.77912871e-037]\n",
      " [  1.82948616e-054   1.33519304e-068   6.66583276e-062 ...,\n",
      "    2.78471019e-074   1.00000000e+000   2.25593435e-130]\n",
      " [  5.27544368e-036   2.09827932e-024   6.76227831e-054 ...,\n",
      "    6.77912871e-037   2.25593435e-130   1.00000000e+000]]\n"
     ]
    },
    {
     "data": {
      "image/png": "[encoded data removed]",
      "text/plain": [
       "<matplotlib.figure.Figure at 0xf888b5a0f0>"
      ]
     },
     "metadata": {},
     "output_type": "display_data"
    }
   ],
   "source": [
    "# K_y test:\n",
    "theta = [1, 1, 1]\n",
    "#Ky = K_y(theta,X,X)\n",
    "#print(Ky.shape[0], Ky.shape[1])\n",
    "Ky = np.zeros((N,N))\n",
    "for i in range(N):\n",
    "    for j in range(N):\n",
    "        Ky[i,j] = K_y(theta,X[i,:],X[j,:])\n",
    "print(Ky)\n",
    "\n",
    "# visualization of kernel matrix\n",
    "import matplotlib.pyplot as mp\n",
    "% matplotlib inline\n",
    "\n",
    "fig = mp.figure(figsize=(10,10)) # scale of the plot\n",
    "image = mp.imshow(Ky)\n",
    "mp.show()"
   ]
  },
  {
   "cell_type": "code",
   "execution_count": 6,
   "metadata": {
    "collapsed": false
   },
   "outputs": [
    {
     "name": "stdout",
     "output_type": "stream",
     "text": [
      "0.0\n",
      "233.039392014\n",
      "9.53939201417\n"
     ]
    }
   ],
   "source": [
    "# weight_likelihood test:\n",
    "a = [[1,0,0],[0,1,0],[0,0,1]]\n",
    "x = [9,8,7,6]\n",
    "c = [1,2,3,4,5,6]\n",
    "\n",
    "print(weight_likelihood(20,4,a,x,c))\n",
    "print(np.linalg.norm(c,2))"
   ]
  },
  {
   "cell_type": "code",
   "execution_count": 14,
   "metadata": {
    "collapsed": false
   },
   "outputs": [
    {
     "data": {
      "text/plain": [
       "1"
      ]
     },
     "execution_count": 14,
     "metadata": {},
     "output_type": "execute_result"
    }
   ],
   "source": [
    "KroneckerDelta(3,3)"
   ]
  },
  {
   "cell_type": "code",
   "execution_count": 76,
   "metadata": {
    "collapsed": true
   },
   "outputs": [],
   "source": [
    "def mk_likelihood(D,Q,N,Kx,Ky,X,Y,theta,lamb):\n",
    "    C = 0\n",
    "    Kx_inv = np.linalg.inv(Kx)\n",
    "    Ky_inv = np.linalg.inv(Ky)\n",
    "    part1 = 0.5*D*np.log(np.linalg.det(Ky))\n",
    "    part2 = 0.5*np.matmul(np.transpose(Y),np.matmul(Ky_inv,Y))\n",
    "    part3 = 0.5*Q*np.log(np.linalg.det(Kx_inv))\n",
    "    part4 = 0.5*np.trace(Kx_inv*np.matmul(X[1:N],np.transpose(X)[1:N]))\n",
    "    part5 = np.sum(theta)\n",
    "    part6 = np.sum(lamb)\n",
    "    return part1 + part2 + part3 + part4 + part5 + part6 + C"
   ]
  },
  {
   "cell_type": "code",
   "execution_count": null,
   "metadata": {
    "collapsed": true
   },
   "outputs": [],
   "source": [
    "def weight_gradient(Q,N,Kx,X,W):\n",
    "    \n",
    "    #params = mk_weightsConstrain(params)\n",
    "    \n",
    "    #[Xin, Xout] = mk_priorIO(X, segments)\n",
    "    \n",
    "    Kx_inv = np.linalg.inv(Kx)\n",
    "    #dL_dKx = -Q/2*invKx + 0.5*invKx*(Xout*Xout')*invKx\n",
    "    \n",
    "    #g = zeros(length(kern.comp),1)\n",
    "    \n",
    "    #for i = 1:length(kern.comp)\n",
    "    #    g(i) = sum(sum(dL_dKx .* Kx{i}))\n",
    "    \n",
    "    norm2 = 1/np.linalg.norm(W,2)\n",
    "    \n",
    "    #for i = 1:length(kern.comp)\n",
    "    #    g(i) = g(i) + norm2 * params(i)\n",
    "    \n",
    "    g = g/np.linalg.norm(g2)\n",
    "    \n",
    "    return -np.transpose(g)"
   ]
  },
  {
   "cell_type": "code",
   "execution_count": 21,
   "metadata": {
    "collapsed": false
   },
   "outputs": [],
   "source": [
    "def mk_gradient(Q,N,D,Kx,Ky,X,Y,theta,lamb):\n",
    "    \n",
    "    Kx_inv = np.linalg.inv(Kx)    \n",
    "    Ky_inv = np.linalg.inv(Ky)\n",
    "    \n",
    "    dL_dX = dL_dKy * dKy_dX + dL_dKx * dKx_dX + dL_dx2 * dx2_dX\n",
    "    \n",
    "    dL_dKy = 0.5*D*np.transpose(Ky_inv)-0.5*np.transpose(np.matmul((Ky_inv*np.matmul(Y,np.transpose(Y))),Ky_inv))\n",
    "    dL_dKx = 0.5*Q*np.transpose(Kx_inv)-0.5*np.transpose(np.matmul((Kx_inv*np.matmul(X[1:N],np.transpose(X[1:N]))),Kx_inv))\n",
    "    dL_dx2 = 0.5*(np.matmul(Kx_inv,X[1:N])+np.matmul(np.transpose(Kx_inv),X[1:N]))\n",
    "    \n",
    "    #dKy_dX = ?\n",
    "    #dKx_dX = ?\n",
    "    #dx2_dX = ?\n",
    "    \n",
    "    dL_dTht1 = 0.5*D*np.trace(Ky_inv*dKy_dTht)\n",
    "    dL_dTht2 = 0.5*np.transpose(np.matmul((Ky_inv*np.matmul(Y,np.transpose(Y))),Ky_inv))*dKy_dTht\n",
    "    dL_dTht3 = 1/theta\n",
    "    #dKy_dTht = ?\n",
    "    \n",
    "    dL_dLam1 = 0.5*Q*np.trace(Kx_inv*dKx_dLam)\n",
    "    dL_dLam2 = 0.5*np.transpose(np.matmul((Kx_inv*np.matmul(X[1:N],np.transpose(X[1:N]))),Kx_inv))*dKx_dTLam\n",
    "    dL_dLam3 = 1/lamb\n",
    "    #dKx_dLam = ?\n",
    "    \n",
    "    dL_dTht = dL_dTht1 - dL_dTht2 + dL_dTht3\n",
    "    \n",
    "    dL_dLam = dL_dLam1 - dL_dLam2 + dL_dLam3\n",
    "    \n",
    "    return [dL_dX, dL_dTheta, dL_dLam]"
   ]
  },
  {
   "cell_type": "markdown",
   "metadata": {},
   "source": [
    "<font color='red'>**Necessary kerns:**</font> 'lin','rbf','poly','ratquad','mlp','matern32'. Let's try to use GPy (Gaussian Process framework in python, from the Sheffield machine learning group). We'll get the following:\n",
    "\n",
    "'lin' **GPy.kern.src.linear** class Linear(input_dim, variances=None, ARD=False, active_dims=None, name='linear')\n",
    "\n",
    "'rbf' **GPy.kern.src.rbf** class RBF(input_dim, variance=1.0, lengthscale=None, ARD=False, active_dims=None, name='rbf', useGPU=False, inv_l=False)\n",
    "\n",
    "'poly' **GPy.kern.src.poly** class Poly(input_dim, variance=1.0, scale=1.0, bias=1.0, order=3.0, active_dims=None, name='poly')\n",
    "\n",
    "'ratquad' **GPy.kern.src.stationary** class RatQuad(input_dim, variance=1.0, lengthscale=None, power=2.0, ARD=False, active_dims=None, name='RatQuad')\n",
    "\n",
    "'mlp' **GPy.kern.src.mlp** class MLP(input_dim, variance=1.0, weight_variance=1.0, bias_variance=1.0, ARD=False, active_dims=None, name='mlp')\n",
    "\n",
    "'matern32' **GPy.kern.src.stationary** class Matern32(input_dim, variance=1.0, lengthscale=None, ARD=False, active_dims=None, name='Mat32')"
   ]
  },
  {
   "cell_type": "code",
   "execution_count": 1,
   "metadata": {
    "collapsed": false
   },
   "outputs": [
    {
     "ename": "ImportError",
     "evalue": "No module named 'GPy'",
     "output_type": "error",
     "traceback": [
      "\u001b[1;31m---------------------------------------------------------------------------\u001b[0m",
      "\u001b[1;31mImportError\u001b[0m                               Traceback (most recent call last)",
      "\u001b[1;32m<ipython-input-1-9315fe5239fc>\u001b[0m in \u001b[0;36m<module>\u001b[1;34m()\u001b[0m\n\u001b[1;32m----> 1\u001b[1;33m \u001b[1;32mimport\u001b[0m \u001b[0mGPy\u001b[0m\u001b[1;33m\u001b[0m\u001b[0m\n\u001b[0m\u001b[0;32m      2\u001b[0m \u001b[1;33m\u001b[0m\u001b[0m\n\u001b[0;32m      3\u001b[0m \u001b[0mK\u001b[0m \u001b[1;33m=\u001b[0m \u001b[0mGPy\u001b[0m\u001b[1;33m.\u001b[0m\u001b[0mkern\u001b[0m\u001b[1;33m.\u001b[0m\u001b[0mrbf\u001b[0m\u001b[1;33m(\u001b[0m\u001b[0md\u001b[0m\u001b[1;33m)\u001b[0m\u001b[1;33m\u001b[0m\u001b[0m\n",
      "\u001b[1;31mImportError\u001b[0m: No module named 'GPy'"
     ]
    }
   ],
   "source": [
    "import GPy\n",
    "\n",
    "K = GPy.kern.rbf(d)"
   ]
  }
 ],
 "metadata": {
  "kernelspec": {
   "display_name": "Python 3",
   "language": "python",
   "name": "python3"
  },
  "language_info": {
   "codemirror_mode": {
    "name": "ipython",
    "version": 3
   },
   "file_extension": ".py",
   "mimetype": "text/x-python",
   "name": "python",
   "nbconvert_exporter": "python",
   "pygments_lexer": "ipython3",
   "version": "3.5.1"
  }
 },
 "nbformat": 4,
 "nbformat_minor": 0
}
