{
 "cells": [
  {
   "cell_type": "markdown",
   "metadata": {},
   "source": [
    "# Gradient test"
   ]
  },
  {
   "cell_type": "markdown",
   "metadata": {},
   "source": [
    "### RBF kernel"
   ]
  },
  {
   "cell_type": "code",
   "execution_count": 2,
   "metadata": {
    "collapsed": false
   },
   "outputs": [
    {
     "name": "stdout",
     "output_type": "stream",
     "text": [
      "[[-0.44911852  0.53789662  1.23012424]\n",
      " [-0.5555795  -1.05571552 -1.83853259]\n",
      " [ 1.18123204  0.22285161 -1.69385651]\n",
      " [-0.81275225 -0.83291592 -0.78837615]\n",
      " [-1.11158247 -0.58022931 -0.65935282]]\n"
     ]
    }
   ],
   "source": [
    "import numpy\n",
    "import GPy\n",
    "N, Q = 10, 3\n",
    "X = numpy.random.randn(N-5,Q)\n",
    "print(X)"
   ]
  },
  {
   "cell_type": "code",
   "execution_count": 3,
   "metadata": {
    "collapsed": false
   },
   "outputs": [
    {
     "name": "stdout",
     "output_type": "stream",
     "text": [
      "[[ 1.          0.00251925  0.0035053   0.04769875  0.07210774]\n",
      " [ 0.00251925  1.          0.09670505  0.54372971  0.38180484]\n",
      " [ 0.0035053   0.09670505  1.          0.0520653   0.03062105]\n",
      " [ 0.04769875  0.54372971  0.0520653   1.          0.9186055 ]\n",
      " [ 0.07210774  0.38180484  0.03062105  0.9186055   1.        ]]\n"
     ]
    }
   ],
   "source": [
    "kern = GPy.kern.RBF(Q, ARD=True)\n",
    "print(kern.K(X))"
   ]
  },
  {
   "cell_type": "code",
   "execution_count": 4,
   "metadata": {
    "collapsed": false
   },
   "outputs": [
    {
     "name": "stdout",
     "output_type": "stream",
     "text": [
      "[[-0.11933398 -0.30226122 -0.501012  ]\n",
      " [-0.3677809   0.86068859  2.08587884]\n",
      " [-0.69539817 -0.40419921  0.15016043]\n",
      " [-0.02702472  0.46266287 -0.80668776]\n",
      " [ 1.20953777 -0.61689104 -0.9283395 ]]\n"
     ]
    }
   ],
   "source": [
    "grad = GPy.kern.RBF(Q, ARD=True).gradients_X(numpy.ones((1,1)), X)\n",
    "print(grad)"
   ]
  },
  {
   "cell_type": "code",
   "execution_count": 5,
   "metadata": {
    "collapsed": false
   },
   "outputs": [
    {
     "name": "stdout",
     "output_type": "stream",
     "text": [
      "            Name             |     Ratio     |  Difference   |  Analytical   |   Numerical   |   dF_ratio    \n",
      "-------------------------------------------------------------------------------------------------------------\n",
      "\u001b[92m GradientChecker.X[[0 0]] \u001b[0m   |   1.000000    |   0.000000    |   0.119334    |   0.119334    |     3e-08     \n",
      "\u001b[92m GradientChecker.X[[0 1]] \u001b[0m   |   1.000000    |   0.000000    |   0.302261    |   0.302261    |     7e-08     \n",
      "\u001b[92m GradientChecker.X[[0 2]] \u001b[0m   |   1.000000    |   0.000000    |   0.501012    |   0.501012    |     1e-07     \n",
      "\u001b[92m GradientChecker.X[[1 0]] \u001b[0m   |   1.000000    |   0.000000    |   0.367781    |   0.367781    |     8e-08     \n",
      "\u001b[92m GradientChecker.X[[1 1]] \u001b[0m   |   1.000000    |   0.000000    |   -0.860689   |   -0.860689   |     2e-07     \n",
      "\u001b[92m GradientChecker.X[[1 2]] \u001b[0m   |   1.000000    |   0.000000    |   -2.085879   |   -2.085879   |     4e-07     \n",
      "\u001b[92m GradientChecker.X[[2 0]] \u001b[0m   |   1.000000    |   0.000000    |   0.695398    |   0.695398    |     1e-07     \n",
      "\u001b[92m GradientChecker.X[[2 1]] \u001b[0m   |   1.000000    |   0.000000    |   0.404199    |   0.404199    |     9e-08     \n",
      "\u001b[92m GradientChecker.X[[2 2]] \u001b[0m   |   1.000000    |   0.000000    |   -0.150160   |   -0.150160   |     3e-08     \n",
      "\u001b[92m GradientChecker.X[[3 0]] \u001b[0m   |   1.000000    |   0.000000    |   0.027025    |   0.027025    |     6e-09     \n",
      "\u001b[92m GradientChecker.X[[3 1]] \u001b[0m   |   1.000000    |   0.000000    |   -0.462663   |   -0.462663   |     1e-07     \n",
      "\u001b[92m GradientChecker.X[[3 2]] \u001b[0m   |   1.000000    |   0.000000    |   0.806688    |   0.806688    |     2e-07     \n",
      "\u001b[92m GradientChecker.X[[4 0]] \u001b[0m   |   1.000000    |   0.000000    |   -1.209538   |   -1.209538   |     3e-07     \n",
      "\u001b[92m GradientChecker.X[[4 1]] \u001b[0m   |   1.000000    |   0.000000    |   0.616891    |   0.616891    |     1e-07     \n",
      "\u001b[92m GradientChecker.X[[4 2]] \u001b[0m   |   1.000000    |   0.000000    |   0.928340    |   0.928339    |     2e-07     \n"
     ]
    },
    {
     "data": {
      "text/plain": [
       "True"
      ]
     },
     "execution_count": 5,
     "metadata": {},
     "output_type": "execute_result"
    }
   ],
   "source": [
    "check = GPy.models.GradientChecker(kern.K,lambda x: grad,x0 = X.copy())\n",
    "check.checkgrad(verbose=1)"
   ]
  },
  {
   "cell_type": "code",
   "execution_count": 62,
   "metadata": {
    "collapsed": true
   },
   "outputs": [],
   "source": [
    "# Compute gradient Kx and check or check might be it is what we need (check dimensionality)"
   ]
  },
  {
   "cell_type": "markdown",
   "metadata": {},
   "source": [
    "### Linear kernel"
   ]
  },
  {
   "cell_type": "code",
   "execution_count": 6,
   "metadata": {
    "collapsed": false
   },
   "outputs": [
    {
     "name": "stdout",
     "output_type": "stream",
     "text": [
      "[[ 1.54683373 -0.14977037 -0.46239145]\n",
      " [ 1.06526514 -1.09362411 -0.01371721]\n",
      " [ 0.03390794 -1.27371788 -0.77556329]\n",
      " [ 0.15126075 -1.0425393   1.07597133]\n",
      " [-0.1135123   1.07793879  0.77555985]]\n"
     ]
    }
   ],
   "source": [
    "N, Q = 10, 3\n",
    "X = numpy.random.randn(N-5,Q)\n",
    "print(X)"
   ]
  },
  {
   "cell_type": "code",
   "execution_count": 70,
   "metadata": {
    "collapsed": false
   },
   "outputs": [
    {
     "name": "stdout",
     "output_type": "stream",
     "text": [
      "[[ 0.7548939   1.03731917 -0.50719281 -0.42277545 -0.32074292]\n",
      " [ 1.03731917  3.20063495 -2.49518877 -0.33834905 -0.74495527]\n",
      " [-0.50719281 -2.49518877  2.23112159 -0.16880548  0.43420397]\n",
      " [-0.42277545 -0.33834905 -0.16880548  0.89343806  0.40735212]\n",
      " [-0.32074292 -0.74495527  0.43420397  0.40735212  0.30471888]]\n"
     ]
    }
   ],
   "source": [
    "kern = GPy.kern.Linear(Q, ARD=True)\n",
    "print(kern.K(X))"
   ]
  },
  {
   "cell_type": "code",
   "execution_count": 71,
   "metadata": {
    "collapsed": false
   },
   "outputs": [
    {
     "name": "stdout",
     "output_type": "stream",
     "text": [
      "[[-0.06417783 -1.47884617  1.54759456]\n",
      " [-0.06417783 -1.47884617  1.54759456]\n",
      " [-0.06417783 -1.47884617  1.54759456]\n",
      " [-0.06417783 -1.47884617  1.54759456]\n",
      " [-0.06417783 -1.47884617  1.54759456]]\n"
     ]
    }
   ],
   "source": [
    "grad = kern.gradients_X(numpy.ones((5,5)), X)\n",
    "print(grad)"
   ]
  },
  {
   "cell_type": "code",
   "execution_count": 22,
   "metadata": {
    "collapsed": false
   },
   "outputs": [
    {
     "name": "stdout",
     "output_type": "stream",
     "text": [
      "            Name             |     Ratio     |  Difference   |  Analytical   |   Numerical   |   dF_ratio    \n",
      "-------------------------------------------------------------------------------------------------------------\n",
      "\u001b[92m GradientChecker.X[[0 0]] \u001b[0m   |   1.000000    |   0.000000    |   -5.367511   |   -5.367511   |     8e-07     \n",
      "\u001b[92m GradientChecker.X[[0 1]] \u001b[0m   |   1.000000    |   0.000000    |   4.963426    |   4.963426    |     7e-07     \n",
      "\u001b[92m GradientChecker.X[[0 2]] \u001b[0m   |   1.000000    |   0.000000    |   -1.199718   |   -1.199718   |     2e-07     \n",
      "\u001b[92m GradientChecker.X[[1 0]] \u001b[0m   |   1.000000    |   0.000000    |   -5.367511   |   -5.367511   |     8e-07     \n",
      "\u001b[92m GradientChecker.X[[1 1]] \u001b[0m   |   1.000000    |   0.000000    |   4.963426    |   4.963426    |     7e-07     \n",
      "\u001b[92m GradientChecker.X[[1 2]] \u001b[0m   |   1.000000    |   0.000000    |   -1.199718   |   -1.199718   |     2e-07     \n",
      "\u001b[92m GradientChecker.X[[2 0]] \u001b[0m   |   1.000000    |   0.000000    |   -5.367511   |   -5.367511   |     8e-07     \n",
      "\u001b[92m GradientChecker.X[[2 1]] \u001b[0m   |   1.000000    |   0.000000    |   4.963426    |   4.963426    |     7e-07     \n",
      "\u001b[92m GradientChecker.X[[2 2]] \u001b[0m   |   1.000000    |   0.000000    |   -1.199718   |   -1.199718   |     2e-07     \n",
      "\u001b[92m GradientChecker.X[[3 0]] \u001b[0m   |   1.000000    |   0.000000    |   -5.367511   |   -5.367511   |     8e-07     \n",
      "\u001b[92m GradientChecker.X[[3 1]] \u001b[0m   |   1.000000    |   0.000000    |   4.963426    |   4.963426    |     7e-07     \n",
      "\u001b[92m GradientChecker.X[[3 2]] \u001b[0m   |   1.000000    |   0.000000    |   -1.199718   |   -1.199718   |     2e-07     \n",
      "\u001b[92m GradientChecker.X[[4 0]] \u001b[0m   |   1.000000    |   0.000000    |   -5.367511   |   -5.367511   |     8e-07     \n",
      "\u001b[92m GradientChecker.X[[4 1]] \u001b[0m   |   1.000000    |   0.000000    |   4.963426    |   4.963426    |     7e-07     \n",
      "\u001b[92m GradientChecker.X[[4 2]] \u001b[0m   |   1.000000    |   0.000000    |   -1.199718   |   -1.199718   |     2e-07     \n"
     ]
    },
    {
     "data": {
      "text/plain": [
       "True"
      ]
     },
     "execution_count": 22,
     "metadata": {},
     "output_type": "execute_result"
    }
   ],
   "source": [
    "check = GPy.models.GradientChecker(kern.K,lambda x: grad,x0 = X.copy())\n",
    "check.checkgrad(verbose=1)"
   ]
  },
  {
   "cell_type": "markdown",
   "metadata": {},
   "source": [
    "### Kx"
   ]
  },
  {
   "cell_type": "code",
   "execution_count": 30,
   "metadata": {
    "collapsed": false
   },
   "outputs": [
    {
     "name": "stdout",
     "output_type": "stream",
     "text": [
      "[[-0.24688349 -0.82693093 -0.10063637]\n",
      " [ 0.8992477  -1.46122037 -0.50677763]\n",
      " [-1.15031156  0.93357093  0.19065737]\n",
      " [ 0.49306098  0.27164739  0.75930009]\n",
      " [-0.02720254  0.3435099   0.43125381]]\n"
     ]
    }
   ],
   "source": [
    "N, Q = 10, 3\n",
    "X = numpy.random.randn(N-5,Q)\n",
    "print(X)"
   ]
  },
  {
   "cell_type": "code",
   "execution_count": 56,
   "metadata": {
    "collapsed": false
   },
   "outputs": [
    {
     "name": "stdout",
     "output_type": "stream",
     "text": [
      "[[ 0.7548939   1.03731917 -0.50719281 -0.42277545 -0.32074292]\n",
      " [ 1.03731917  3.20063495 -2.49518877 -0.33834905 -0.74495527]\n",
      " [-0.50719281 -2.49518877  2.23112159 -0.16880548  0.43420397]\n",
      " [-0.42277545 -0.33834905 -0.16880548  0.89343806  0.40735212]\n",
      " [-0.32074292 -0.74495527  0.43420397  0.40735212  0.30471888]]\n"
     ]
    }
   ],
   "source": [
    "kern1 = GPy.kern.Linear(Q, ARD=True)\n",
    "print(kern1.K(X))"
   ]
  },
  {
   "cell_type": "code",
   "execution_count": 75,
   "metadata": {
    "collapsed": false
   },
   "outputs": [
    {
     "name": "stdout",
     "output_type": "stream",
     "text": [
      "[[-0.06417783 -1.47884617  1.54759456]\n",
      " [-0.06417783 -1.47884617  1.54759456]\n",
      " [-0.06417783 -1.47884617  1.54759456]\n",
      " [-0.06417783 -1.47884617  1.54759456]\n",
      " [-0.06417783 -1.47884617  1.54759456]]\n"
     ]
    }
   ],
   "source": [
    "grad1 = kern1.gradients_X(numpy.ones((5,5)), X)\n",
    "print(grad)"
   ]
  },
  {
   "cell_type": "code",
   "execution_count": 77,
   "metadata": {
    "collapsed": false
   },
   "outputs": [
    {
     "name": "stdout",
     "output_type": "stream",
     "text": [
      "[[ 1.          0.39045395  0.13530814  0.28738243  0.42718021]\n",
      " [ 0.39045395  1.          0.00545585  0.09205348  0.08227959]\n",
      " [ 0.13530814  0.00545585  1.          0.17709211  0.43443182]\n",
      " [ 0.28738243  0.09205348  0.17709211  1.          0.82553274]\n",
      " [ 0.42718021  0.08227959  0.43443182  0.82553274  1.        ]]\n"
     ]
    }
   ],
   "source": [
    "kern2 = GPy.kern.RBF(Q, ARD=True)\n",
    "print(kern2.K(X))"
   ]
  },
  {
   "cell_type": "code",
   "execution_count": 82,
   "metadata": {
    "collapsed": false
   },
   "outputs": [
    {
     "name": "stdout",
     "output_type": "stream",
     "text": [
      "[[ 1.26352133  1.6125014   0.71035711]\n",
      " [-1.14462475  1.13747082  0.71222452]\n",
      " [ 1.82473172 -1.24967715  0.32401074]\n",
      " [-1.79155803 -0.59736467 -1.47038514]\n",
      " [-0.15207026 -0.9029304  -0.27620723]]\n"
     ]
    }
   ],
   "source": [
    "grad2 = kern2.gradients_X(numpy.ones((5,5)), X)\n",
    "print(grad2)"
   ]
  },
  {
   "cell_type": "code",
   "execution_count": 95,
   "metadata": {
    "collapsed": false
   },
   "outputs": [
    {
     "name": "stdout",
     "output_type": "stream",
     "text": [
      "[[  5.40446355e+00   8.45623836e+00   1.19682626e-01   1.92324400e-01\n",
      "    3.13402545e-01]\n",
      " [  8.45623836e+00   7.41216068e+01  -3.34262822e+00   2.89658868e-01\n",
      "    1.65901023e-02]\n",
      " [  1.19682626e-01  -3.34262822e+00   3.37333836e+01   5.74259268e-01\n",
      "    2.95007299e+00]\n",
      " [  1.92324400e-01   2.89658868e-01   5.74259268e-01   6.78817935e+00\n",
      "    2.78745787e+00]\n",
      " [  3.13402545e-01   1.65901023e-02   2.95007299e+00   2.78745787e+00\n",
      "    2.22101168e+00]]\n"
     ]
    }
   ],
   "source": [
    "kern3 = GPy.kern.Poly(Q)\n",
    "print(kern3.K(X))"
   ]
  },
  {
   "cell_type": "code",
   "execution_count": 94,
   "metadata": {
    "collapsed": false
   },
   "outputs": [
    {
     "ename": "NotImplementedError",
     "evalue": "",
     "output_type": "error",
     "traceback": [
      "\u001b[1;31m---------------------------------------------------------------------------\u001b[0m",
      "\u001b[1;31mNotImplementedError\u001b[0m                       Traceback (most recent call last)",
      "\u001b[1;32m<ipython-input-94-4ddbd3207a40>\u001b[0m in \u001b[0;36m<module>\u001b[1;34m()\u001b[0m\n\u001b[1;32m----> 1\u001b[1;33m \u001b[0mgrad3\u001b[0m \u001b[1;33m=\u001b[0m \u001b[0mkern3\u001b[0m\u001b[1;33m.\u001b[0m\u001b[0mgradients_X\u001b[0m\u001b[1;33m(\u001b[0m\u001b[0mnumpy\u001b[0m\u001b[1;33m.\u001b[0m\u001b[0mones\u001b[0m\u001b[1;33m(\u001b[0m\u001b[1;33m(\u001b[0m\u001b[1;36m1\u001b[0m\u001b[1;33m,\u001b[0m\u001b[1;36m1\u001b[0m\u001b[1;33m)\u001b[0m\u001b[1;33m)\u001b[0m\u001b[1;33m,\u001b[0m \u001b[0mX\u001b[0m\u001b[1;33m)\u001b[0m\u001b[1;33m\u001b[0m\u001b[0m\n\u001b[0m\u001b[0;32m      2\u001b[0m \u001b[0mprint\u001b[0m\u001b[1;33m(\u001b[0m\u001b[0mgrad3\u001b[0m\u001b[1;33m)\u001b[0m\u001b[1;33m\u001b[0m\u001b[0m\n",
      "\u001b[1;32mC:\\Users\\Maxim\\Anaconda3\\lib\\site-packages\\GPy\\kern\\src\\kernel_slice_operations.py\u001b[0m in \u001b[0;36mwrap\u001b[1;34m(self, dL_dK, X, X2)\u001b[0m\n\u001b[0;32m    109\u001b[0m     \u001b[1;32mdef\u001b[0m \u001b[0mwrap\u001b[0m\u001b[1;33m(\u001b[0m\u001b[0mself\u001b[0m\u001b[1;33m,\u001b[0m \u001b[0mdL_dK\u001b[0m\u001b[1;33m,\u001b[0m \u001b[0mX\u001b[0m\u001b[1;33m,\u001b[0m \u001b[0mX2\u001b[0m\u001b[1;33m=\u001b[0m\u001b[1;32mNone\u001b[0m\u001b[1;33m)\u001b[0m\u001b[1;33m:\u001b[0m\u001b[1;33m\u001b[0m\u001b[0m\n\u001b[0;32m    110\u001b[0m         \u001b[1;32mwith\u001b[0m \u001b[0m_Slice_wrap\u001b[0m\u001b[1;33m(\u001b[0m\u001b[0mself\u001b[0m\u001b[1;33m,\u001b[0m \u001b[0mX\u001b[0m\u001b[1;33m,\u001b[0m \u001b[0mX2\u001b[0m\u001b[1;33m)\u001b[0m \u001b[1;32mas\u001b[0m \u001b[0ms\u001b[0m\u001b[1;33m:\u001b[0m\u001b[1;33m\u001b[0m\u001b[0m\n\u001b[1;32m--> 111\u001b[1;33m             \u001b[0mret\u001b[0m \u001b[1;33m=\u001b[0m \u001b[0ms\u001b[0m\u001b[1;33m.\u001b[0m\u001b[0mhandle_return_array\u001b[0m\u001b[1;33m(\u001b[0m\u001b[0mf\u001b[0m\u001b[1;33m(\u001b[0m\u001b[0mself\u001b[0m\u001b[1;33m,\u001b[0m \u001b[0mdL_dK\u001b[0m\u001b[1;33m,\u001b[0m \u001b[0ms\u001b[0m\u001b[1;33m.\u001b[0m\u001b[0mX\u001b[0m\u001b[1;33m,\u001b[0m \u001b[0ms\u001b[0m\u001b[1;33m.\u001b[0m\u001b[0mX2\u001b[0m\u001b[1;33m)\u001b[0m\u001b[1;33m)\u001b[0m\u001b[1;33m\u001b[0m\u001b[0m\n\u001b[0m\u001b[0;32m    112\u001b[0m         \u001b[1;32mreturn\u001b[0m \u001b[0mret\u001b[0m\u001b[1;33m\u001b[0m\u001b[0m\n\u001b[0;32m    113\u001b[0m     \u001b[1;32mreturn\u001b[0m \u001b[0mwrap\u001b[0m\u001b[1;33m\u001b[0m\u001b[0m\n",
      "\u001b[1;32mC:\\Users\\Maxim\\Anaconda3\\lib\\site-packages\\GPy\\kern\\src\\poly.py\u001b[0m in \u001b[0;36mgradients_X\u001b[1;34m(self, dL_dK, X, X2)\u001b[0m\n\u001b[0;32m     54\u001b[0m \u001b[1;33m\u001b[0m\u001b[0m\n\u001b[0;32m     55\u001b[0m     \u001b[1;32mdef\u001b[0m \u001b[0mgradients_X\u001b[0m\u001b[1;33m(\u001b[0m\u001b[0mself\u001b[0m\u001b[1;33m,\u001b[0m \u001b[0mdL_dK\u001b[0m\u001b[1;33m,\u001b[0m \u001b[0mX\u001b[0m\u001b[1;33m,\u001b[0m \u001b[0mX2\u001b[0m\u001b[1;33m=\u001b[0m\u001b[1;32mNone\u001b[0m\u001b[1;33m)\u001b[0m\u001b[1;33m:\u001b[0m\u001b[1;33m\u001b[0m\u001b[0m\n\u001b[1;32m---> 56\u001b[1;33m         \u001b[1;32mraise\u001b[0m \u001b[0mNotImplementedError\u001b[0m\u001b[1;33m\u001b[0m\u001b[0m\n\u001b[0m\u001b[0;32m     57\u001b[0m \u001b[1;33m\u001b[0m\u001b[0m\n\u001b[0;32m     58\u001b[0m     \u001b[1;32mdef\u001b[0m \u001b[0mgradients_X_diag\u001b[0m\u001b[1;33m(\u001b[0m\u001b[0mself\u001b[0m\u001b[1;33m,\u001b[0m \u001b[0mdL_dKdiag\u001b[0m\u001b[1;33m,\u001b[0m \u001b[0mX\u001b[0m\u001b[1;33m)\u001b[0m\u001b[1;33m:\u001b[0m\u001b[1;33m\u001b[0m\u001b[0m\n",
      "\u001b[1;31mNotImplementedError\u001b[0m: "
     ]
    }
   ],
   "source": [
    "grad3 = kern3.gradients_X(numpy.ones((1,1)), X)\n",
    "print(grad3)"
   ]
  },
  {
   "cell_type": "code",
   "execution_count": 60,
   "metadata": {
    "collapsed": false
   },
   "outputs": [
    {
     "name": "stdout",
     "output_type": "stream",
     "text": [
      "[[ 1.          0.26558113  0.11109626  0.19806899  0.29201064]\n",
      " [ 0.26558113  1.          0.02592194  0.08725367  0.08174322]\n",
      " [ 0.11109626  0.02592194  1.          0.13406934  0.29739641]\n",
      " [ 0.19806899  0.08725367  0.13406934  1.          0.70412038]\n",
      " [ 0.29201064  0.08174322  0.29739641  0.70412038  1.        ]]\n"
     ]
    }
   ],
   "source": [
    "kern4 = GPy.kern.RatQuad(Q, ARD=True)\n",
    "print(kern4.K(X))"
   ]
  },
  {
   "cell_type": "code",
   "execution_count": 86,
   "metadata": {
    "collapsed": false
   },
   "outputs": [
    {
     "name": "stdout",
     "output_type": "stream",
     "text": [
      "[[ 0.89321718  1.03963981  0.45973556]\n",
      " [-0.79016528  0.73459225  0.45220751]\n",
      " [ 1.21931711 -0.81350711  0.21295199]\n",
      " [-1.77129511 -0.26619723 -1.32069225]\n",
      " [ 0.4489261  -0.69452772  0.19579719]]\n"
     ]
    }
   ],
   "source": [
    "grad4 = kern4.gradients_X(numpy.ones((5,5)), X)\n",
    "print(grad4)"
   ]
  },
  {
   "cell_type": "code",
   "execution_count": 61,
   "metadata": {
    "collapsed": false
   },
   "outputs": [
    {
     "name": "stdout",
     "output_type": "stream",
     "text": [
      "[[ 0.43965771  0.36182352  0.09221397  0.13108059  0.17376361]\n",
      " [ 0.36182352  0.59859282 -0.2065211   0.10911952  0.04694106]\n",
      " [ 0.09221397 -0.2065211   0.55319529  0.1526933   0.30378254]\n",
      " [ 0.13108059  0.10911952  0.1526933   0.45414936  0.36693136]\n",
      " [ 0.17376361  0.04694106  0.30378254  0.36693136  0.38310267]]\n"
     ]
    }
   ],
   "source": [
    "kern5 = GPy.kern.MLP(Q, ARD=True)\n",
    "print(kern5.K(X))"
   ]
  },
  {
   "cell_type": "code",
   "execution_count": 87,
   "metadata": {
    "collapsed": false
   },
   "outputs": [
    {
     "name": "stdout",
     "output_type": "stream",
     "text": [
      "[[ 0.22982488  0.38070156  0.48301039]\n",
      " [-0.32287145  0.23430032  0.45408509]\n",
      " [ 0.40768952 -0.52827867  0.28757685]\n",
      " [-0.43891441 -0.41393517 -0.16395209]\n",
      " [-0.0210358  -0.57322974  0.05740467]]\n"
     ]
    }
   ],
   "source": [
    "grad5 = kern5.gradients_X(numpy.ones((5,5)), X)\n",
    "print(grad5)"
   ]
  },
  {
   "cell_type": "code",
   "execution_count": 62,
   "metadata": {
    "collapsed": false
   },
   "outputs": [
    {
     "name": "stdout",
     "output_type": "stream",
     "text": [
      "[[ 1.          0.33541703  0.13863933  0.25428485  0.36544446]\n",
      " [ 0.33541703  1.          0.0187491   0.1046833   0.09673694]\n",
      " [ 0.13863933  0.0187491   1.          0.17049723  0.37145623]\n",
      " [ 0.25428485  0.1046833   0.17049723  1.          0.75717706]\n",
      " [ 0.36544446  0.09673694  0.37145623  0.75717706  1.        ]]\n"
     ]
    }
   ],
   "source": [
    "kern6 = GPy.kern.Matern52(Q, ARD=True)\n",
    "print(kern6.K(X))"
   ]
  },
  {
   "cell_type": "code",
   "execution_count": 88,
   "metadata": {
    "collapsed": false
   },
   "outputs": [
    {
     "name": "stdout",
     "output_type": "stream",
     "text": [
      "[[ 1.01777561  1.27900198  0.56026945]\n",
      " [-0.95014131  0.94938544  0.58497045]\n",
      " [ 1.48119356 -1.01846033  0.25160867]\n",
      " [-1.74335235 -0.42218809 -1.37360025]\n",
      " [ 0.19452448 -0.787739   -0.02324833]]\n"
     ]
    }
   ],
   "source": [
    "grad6 = kern6.gradients_X(numpy.ones((5,5)), X)\n",
    "print(grad6)"
   ]
  },
  {
   "cell_type": "code",
   "execution_count": 110,
   "metadata": {
    "collapsed": false
   },
   "outputs": [
    {
     "name": "stdout",
     "output_type": "stream",
     "text": [
      "[[ 4.19455161  2.3905948  -0.02993511  0.44804143  0.937656  ]\n",
      " [ 2.3905948   6.79922778 -2.65158297  0.05476092 -0.43725446]\n",
      " [-0.02993511 -2.65158297  5.78431688  0.46554649  1.84127098]\n",
      " [ 0.44804143  0.05476092  0.46554649  4.34758742  3.06111366]\n",
      " [ 0.937656   -0.43725446  1.84127098  3.06111366  3.68782156]]\n"
     ]
    }
   ],
   "source": [
    "kern = kern1 + kern2 + kern4 + kern5 + kern6# + kern3\n",
    "print(kern.K(X))"
   ]
  },
  {
   "cell_type": "code",
   "execution_count": 103,
   "metadata": {
    "collapsed": false
   },
   "outputs": [
    {
     "name": "stdout",
     "output_type": "stream",
     "text": [
      "[[ 3.34016117  2.83299857  3.76096708]\n",
      " [-3.27198062  1.57690266  3.75108214]\n",
      " [ 4.86875409 -5.08876942  2.62374281]\n",
      " [-5.80929772 -3.17853132 -2.78103517]\n",
      " [ 0.40616669 -4.43727304  1.50134087]]\n"
     ]
    }
   ],
   "source": [
    "grad = kern.gradients_X(numpy.ones((5,5)), X)\n",
    "print(grad)"
   ]
  },
  {
   "cell_type": "code",
   "execution_count": 107,
   "metadata": {
    "collapsed": false
   },
   "outputs": [
    {
     "name": "stdout",
     "output_type": "stream",
     "text": [
      "            Name             |     Ratio     |  Difference   |  Analytical   |   Numerical   |   dF_ratio    \n",
      "-------------------------------------------------------------------------------------------------------------\n",
      "\u001b[92m GradientChecker.X[[0 0]] \u001b[0m   |   1.000000    |   0.000000    |   -3.340161   |   -3.340161   |     2e-07     \n",
      "\u001b[92m GradientChecker.X[[0 1]] \u001b[0m   |   1.000000    |   0.000000    |   -2.832999   |   -2.832999   |     2e-07     \n",
      "\u001b[92m GradientChecker.X[[0 2]] \u001b[0m   |   1.000000    |   0.000000    |   -3.760967   |   -3.760967   |     2e-07     \n",
      "\u001b[92m GradientChecker.X[[1 0]] \u001b[0m   |   1.000000    |   0.000000    |   3.271981    |   3.271981    |     2e-07     \n",
      "\u001b[92m GradientChecker.X[[1 1]] \u001b[0m   |   1.000000    |   0.000000    |   -1.576903   |   -1.576903   |     9e-08     \n",
      "\u001b[92m GradientChecker.X[[1 2]] \u001b[0m   |   1.000000    |   0.000000    |   -3.751082   |   -3.751082   |     2e-07     \n",
      "\u001b[92m GradientChecker.X[[2 0]] \u001b[0m   |   1.000000    |   0.000000    |   -4.868754   |   -4.868754   |     3e-07     \n",
      "\u001b[92m GradientChecker.X[[2 1]] \u001b[0m   |   1.000000    |   0.000000    |   5.088769    |   5.088769    |     3e-07     \n",
      "\u001b[92m GradientChecker.X[[2 2]] \u001b[0m   |   1.000000    |   0.000000    |   -2.623743   |   -2.623743   |     1e-07     \n",
      "\u001b[92m GradientChecker.X[[3 0]] \u001b[0m   |   1.000000    |   0.000000    |   5.809298    |   5.809298    |     3e-07     \n",
      "\u001b[92m GradientChecker.X[[3 1]] \u001b[0m   |   1.000000    |   0.000000    |   3.178531    |   3.178531    |     2e-07     \n",
      "\u001b[92m GradientChecker.X[[3 2]] \u001b[0m   |   1.000000    |   0.000000    |   2.781035    |   2.781035    |     2e-07     \n",
      "\u001b[92m GradientChecker.X[[4 0]] \u001b[0m   |   1.000000    |   0.000000    |   -0.406167   |   -0.406167   |     2e-08     \n",
      "\u001b[92m GradientChecker.X[[4 1]] \u001b[0m   |   1.000000    |   0.000000    |   4.437273    |   4.437273    |     2e-07     \n",
      "\u001b[92m GradientChecker.X[[4 2]] \u001b[0m   |   1.000000    |   0.000000    |   -1.501341   |   -1.501341   |     8e-08     \n"
     ]
    },
    {
     "data": {
      "text/plain": [
       "True"
      ]
     },
     "execution_count": 107,
     "metadata": {},
     "output_type": "execute_result"
    }
   ],
   "source": [
    "check = GPy.models.GradientChecker(kern.K,lambda x: grad,x0 = X.copy())\n",
    "check.checkgrad(verbose=1)"
   ]
  },
  {
   "cell_type": "markdown",
   "metadata": {},
   "source": [
    "Using lambda function notation:"
   ]
  },
  {
   "cell_type": "code",
   "execution_count": 114,
   "metadata": {
    "collapsed": false
   },
   "outputs": [
    {
     "name": "stdout",
     "output_type": "stream",
     "text": [
      "            Name             |     Ratio     |  Difference   |  Analytical   |   Numerical   |   dF_ratio    \n",
      "-------------------------------------------------------------------------------------------------------------\n",
      "\u001b[92m GradientChecker.X[[0 0]] \u001b[0m   |   1.000000    |   0.000000    |   -3.340161   |   -3.340161   |     2e-07     \n",
      "\u001b[92m GradientChecker.X[[0 1]] \u001b[0m   |   1.000000    |   0.000000    |   -2.832999   |   -2.832999   |     2e-07     \n",
      "\u001b[92m GradientChecker.X[[0 2]] \u001b[0m   |   1.000000    |   0.000000    |   -3.760967   |   -3.760967   |     2e-07     \n",
      "\u001b[92m GradientChecker.X[[1 0]] \u001b[0m   |   1.000000    |   0.000000    |   3.271981    |   3.271981    |     2e-07     \n",
      "\u001b[92m GradientChecker.X[[1 1]] \u001b[0m   |   1.000000    |   0.000000    |   -1.576903   |   -1.576903   |     9e-08     \n",
      "\u001b[92m GradientChecker.X[[1 2]] \u001b[0m   |   1.000000    |   0.000000    |   -3.751082   |   -3.751082   |     2e-07     \n",
      "\u001b[92m GradientChecker.X[[2 0]] \u001b[0m   |   1.000000    |   0.000000    |   -4.868754   |   -4.868754   |     3e-07     \n",
      "\u001b[92m GradientChecker.X[[2 1]] \u001b[0m   |   1.000000    |   0.000000    |   5.088769    |   5.088769    |     3e-07     \n",
      "\u001b[92m GradientChecker.X[[2 2]] \u001b[0m   |   1.000000    |   0.000000    |   -2.623743   |   -2.623743   |     1e-07     \n",
      "\u001b[92m GradientChecker.X[[3 0]] \u001b[0m   |   1.000000    |   0.000000    |   5.809298    |   5.809298    |     3e-07     \n",
      "\u001b[92m GradientChecker.X[[3 1]] \u001b[0m   |   1.000000    |   0.000000    |   3.178531    |   3.178531    |     2e-07     \n",
      "\u001b[92m GradientChecker.X[[3 2]] \u001b[0m   |   1.000000    |   0.000000    |   2.781035    |   2.781035    |     2e-07     \n",
      "\u001b[92m GradientChecker.X[[4 0]] \u001b[0m   |   1.000000    |   0.000000    |   -0.406167   |   -0.406167   |     2e-08     \n",
      "\u001b[92m GradientChecker.X[[4 1]] \u001b[0m   |   1.000000    |   0.000000    |   4.437273    |   4.437273    |     2e-07     \n",
      "\u001b[92m GradientChecker.X[[4 2]] \u001b[0m   |   1.000000    |   0.000000    |   -1.501341   |   -1.501341   |     8e-08     \n"
     ]
    },
    {
     "data": {
      "text/plain": [
       "True"
      ]
     },
     "execution_count": 114,
     "metadata": {},
     "output_type": "execute_result"
    }
   ],
   "source": [
    "check = GPy.models.GradientChecker(lambda X: kern.K(X),lambda x: grad,x0 = X.copy())\n",
    "check.checkgrad(verbose=1)"
   ]
  }
 ],
 "metadata": {
  "kernelspec": {
   "display_name": "Python 3",
   "language": "python",
   "name": "python3"
  },
  "language_info": {
   "codemirror_mode": {
    "name": "ipython",
    "version": 3
   },
   "file_extension": ".py",
   "mimetype": "text/x-python",
   "name": "python",
   "nbconvert_exporter": "python",
   "pygments_lexer": "ipython3",
   "version": "3.5.1"
  }
 },
 "nbformat": 4,
 "nbformat_minor": 0
}
