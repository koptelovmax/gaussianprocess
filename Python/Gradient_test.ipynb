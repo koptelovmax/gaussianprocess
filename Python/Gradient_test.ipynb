{
 "cells": [
  {
   "cell_type": "markdown",
   "metadata": {},
   "source": [
    "# Gradient test"
   ]
  },
  {
   "cell_type": "markdown",
   "metadata": {},
   "source": [
    "### RBF kernel"
   ]
  },
  {
   "cell_type": "code",
   "execution_count": 1,
   "metadata": {
    "collapsed": false
   },
   "outputs": [
    {
     "name": "stdout",
     "output_type": "stream",
     "text": [
      "[[-1.14286666  1.34806687  0.27537821]\n",
      " [ 0.32409023 -0.15853099 -0.50530328]\n",
      " [-0.02898061 -0.49979855 -1.26812569]\n",
      " [-1.12519145  0.04920702  0.07601425]\n",
      " [-1.82195009  0.14846591  1.05584206]]\n"
     ]
    }
   ],
   "source": [
    "import numpy\n",
    "import GPy\n",
    "N, Q = 10, 3\n",
    "X = numpy.random.randn(N-5,Q)\n",
    "print(X)"
   ]
  },
  {
   "cell_type": "code",
   "execution_count": 2,
   "metadata": {
    "collapsed": false
   },
   "outputs": [
    {
     "name": "stdout",
     "output_type": "stream",
     "text": [
      "[[ 1.          0.08081185  0.02963271  0.42166351  0.28517271]\n",
      " [ 0.08081185  1.          0.66264869  0.2891669   0.02819938]\n",
      " [ 0.02963271  0.66264869  1.          0.1911114   0.01091185]\n",
      " [ 0.42166351  0.2891669   0.1911114   1.          0.48302168]\n",
      " [ 0.28517271  0.02819938  0.01091185  0.48302168  1.        ]]\n"
     ]
    }
   ],
   "source": [
    "kern = GPy.kern.RBF(Q, ARD=True)\n",
    "print(kern.K(X))"
   ]
  },
  {
   "cell_type": "code",
   "execution_count": 3,
   "metadata": {
    "collapsed": false
   },
   "outputs": [
    {
     "name": "stdout",
     "output_type": "stream",
     "text": [
      "[[-0.0692962  -2.13256696  0.05935193]\n",
      " [-1.66422144 -0.07132292 -0.4605477 ]\n",
      " [-0.05621706  0.7857855   1.66692146]\n",
      " [ 0.5691603   0.86126763  0.26472866]\n",
      " [ 1.22057438  0.55683675 -1.53045434]]\n"
     ]
    }
   ],
   "source": [
    "grad = GPy.kern.RBF(Q, ARD=True).gradients_X(numpy.ones((1,1)), X)\n",
    "print(grad)"
   ]
  },
  {
   "cell_type": "code",
   "execution_count": 4,
   "metadata": {
    "collapsed": false
   },
   "outputs": [
    {
     "name": "stdout",
     "output_type": "stream",
     "text": [
      "            Name             |     Ratio     |  Difference   |  Analytical   |   Numerical   |   dF_ratio    \n",
      "-------------------------------------------------------------------------------------------------------------\n",
      "\u001b[92m GradientChecker.X[[0 0]] \u001b[0m   |   1.000000    |   0.000000    |   0.069296    |   0.069296    |     1e-08     \n",
      "\u001b[92m GradientChecker.X[[0 1]] \u001b[0m   |   1.000000    |   0.000000    |   2.132567    |   2.132567    |     4e-07     \n",
      "\u001b[92m GradientChecker.X[[0 2]] \u001b[0m   |   1.000000    |   0.000000    |   -0.059352   |   -0.059352   |     1e-08     \n",
      "\u001b[92m GradientChecker.X[[1 0]] \u001b[0m   |   1.000000    |   0.000000    |   1.664221    |   1.664221    |     3e-07     \n",
      "\u001b[92m GradientChecker.X[[1 1]] \u001b[0m   |   1.000000    |   0.000000    |   0.071323    |   0.071323    |     1e-08     \n",
      "\u001b[92m GradientChecker.X[[1 2]] \u001b[0m   |   1.000000    |   0.000000    |   0.460548    |   0.460548    |     9e-08     \n",
      "\u001b[92m GradientChecker.X[[2 0]] \u001b[0m   |   1.000000    |   0.000000    |   0.056217    |   0.056217    |     1e-08     \n",
      "\u001b[92m GradientChecker.X[[2 1]] \u001b[0m   |   1.000000    |   0.000000    |   -0.785785   |   -0.785785   |     2e-07     \n",
      "\u001b[92m GradientChecker.X[[2 2]] \u001b[0m   |   1.000000    |   0.000000    |   -1.666921   |   -1.666921   |     3e-07     \n",
      "\u001b[92m GradientChecker.X[[3 0]] \u001b[0m   |   1.000000    |   0.000000    |   -0.569160   |   -0.569160   |     1e-07     \n",
      "\u001b[92m GradientChecker.X[[3 1]] \u001b[0m   |   1.000000    |   0.000000    |   -0.861268   |   -0.861268   |     2e-07     \n",
      "\u001b[92m GradientChecker.X[[3 2]] \u001b[0m   |   1.000000    |   0.000000    |   -0.264729   |   -0.264729   |     5e-08     \n",
      "\u001b[92m GradientChecker.X[[4 0]] \u001b[0m   |   1.000000    |   0.000000    |   -1.220574   |   -1.220574   |     2e-07     \n",
      "\u001b[92m GradientChecker.X[[4 1]] \u001b[0m   |   1.000000    |   0.000000    |   -0.556837   |   -0.556837   |     1e-07     \n",
      "\u001b[92m GradientChecker.X[[4 2]] \u001b[0m   |   1.000000    |   0.000000    |   1.530454    |   1.530454    |     3e-07     \n"
     ]
    },
    {
     "data": {
      "text/plain": [
       "True"
      ]
     },
     "execution_count": 4,
     "metadata": {},
     "output_type": "execute_result"
    }
   ],
   "source": [
    "check = GPy.models.GradientChecker(kern.K,lambda x: grad,x0 = X.copy())\n",
    "check.checkgrad(verbose=1)"
   ]
  },
  {
   "cell_type": "markdown",
   "metadata": {},
   "source": [
    "### Linear kernel"
   ]
  },
  {
   "cell_type": "code",
   "execution_count": 5,
   "metadata": {
    "collapsed": false
   },
   "outputs": [
    {
     "name": "stdout",
     "output_type": "stream",
     "text": [
      "[[ 0.04044369 -0.28062934  0.55990156]\n",
      " [ 0.22187517  0.97275164  1.10664674]\n",
      " [ 0.687717   -1.36220048  0.10916885]\n",
      " [-0.77231975 -0.94676323 -0.83693363]\n",
      " [ 0.85988246  1.04961513 -1.50357279]]\n"
     ]
    }
   ],
   "source": [
    "N, Q = 10, 3\n",
    "X = numpy.random.randn(N-5,Q)\n",
    "print(X)"
   ]
  },
  {
   "cell_type": "code",
   "execution_count": 6,
   "metadata": {
    "collapsed": false
   },
   "outputs": [
    {
     "name": "stdout",
     "output_type": "stream",
     "text": [
      "[[ 0.39387827  0.35560404  0.47121104 -0.23414636 -1.10162873]\n",
      " [ 0.35560404  2.22014135 -1.05168406 -2.01851392 -0.45212253]\n",
      " [ 0.47121104 -1.05168406  2.34046265  0.66717682 -1.00257376]\n",
      " [-0.23414636 -2.01851392  0.66717682  2.19329629 -0.39945058]\n",
      " [-1.10162873 -0.45212253 -1.00257376 -0.39945058  4.1018209 ]]\n"
     ]
    }
   ],
   "source": [
    "kern = GPy.kern.Linear(Q, ARD=True)\n",
    "print(kern.K(X))"
   ]
  },
  {
   "cell_type": "code",
   "execution_count": 7,
   "metadata": {
    "collapsed": false
   },
   "outputs": [
    {
     "name": "stdout",
     "output_type": "stream",
     "text": [
      "[[ 2.07519714 -1.13445255 -1.12957854]\n",
      " [ 2.07519714 -1.13445255 -1.12957854]\n",
      " [ 2.07519714 -1.13445255 -1.12957854]\n",
      " [ 2.07519714 -1.13445255 -1.12957854]\n",
      " [ 2.07519714 -1.13445255 -1.12957854]]\n"
     ]
    }
   ],
   "source": [
    "grad = kern.gradients_X(numpy.ones((5,5)), X)\n",
    "print(grad)"
   ]
  },
  {
   "cell_type": "code",
   "execution_count": 8,
   "metadata": {
    "collapsed": false
   },
   "outputs": [
    {
     "name": "stdout",
     "output_type": "stream",
     "text": [
      "            Name             |     Ratio     |  Difference   |  Analytical   |   Numerical   |   dF_ratio    \n",
      "-------------------------------------------------------------------------------------------------------------\n",
      "\u001b[92m GradientChecker.X[[0 0]] \u001b[0m   |   1.000000    |   0.000000    |   -2.075197   |   -2.075197   |     2e-06     \n",
      "\u001b[92m GradientChecker.X[[0 1]] \u001b[0m   |   1.000000    |   0.000000    |   1.134453    |   1.134453    |     1e-06     \n",
      "\u001b[92m GradientChecker.X[[0 2]] \u001b[0m   |   1.000000    |   0.000000    |   1.129579    |   1.129579    |     1e-06     \n",
      "\u001b[92m GradientChecker.X[[1 0]] \u001b[0m   |   1.000000    |   0.000000    |   -2.075197   |   -2.075197   |     2e-06     \n",
      "\u001b[92m GradientChecker.X[[1 1]] \u001b[0m   |   1.000000    |   0.000000    |   1.134453    |   1.134453    |     1e-06     \n",
      "\u001b[92m GradientChecker.X[[1 2]] \u001b[0m   |   1.000000    |   0.000000    |   1.129579    |   1.129579    |     1e-06     \n",
      "\u001b[92m GradientChecker.X[[2 0]] \u001b[0m   |   1.000000    |   0.000000    |   -2.075197   |   -2.075197   |     2e-06     \n",
      "\u001b[92m GradientChecker.X[[2 1]] \u001b[0m   |   1.000000    |   0.000000    |   1.134453    |   1.134453    |     1e-06     \n",
      "\u001b[92m GradientChecker.X[[2 2]] \u001b[0m   |   1.000000    |   0.000000    |   1.129579    |   1.129579    |     1e-06     \n",
      "\u001b[92m GradientChecker.X[[3 0]] \u001b[0m   |   1.000000    |   0.000000    |   -2.075197   |   -2.075197   |     2e-06     \n",
      "\u001b[92m GradientChecker.X[[3 1]] \u001b[0m   |   1.000000    |   0.000000    |   1.134453    |   1.134453    |     1e-06     \n",
      "\u001b[92m GradientChecker.X[[3 2]] \u001b[0m   |   1.000000    |   0.000000    |   1.129579    |   1.129579    |     1e-06     \n",
      "\u001b[92m GradientChecker.X[[4 0]] \u001b[0m   |   1.000000    |   0.000000    |   -2.075197   |   -2.075197   |     2e-06     \n",
      "\u001b[92m GradientChecker.X[[4 1]] \u001b[0m   |   1.000000    |   0.000000    |   1.134453    |   1.134453    |     1e-06     \n",
      "\u001b[92m GradientChecker.X[[4 2]] \u001b[0m   |   1.000000    |   0.000000    |   1.129579    |   1.129579    |     1e-06     \n"
     ]
    },
    {
     "data": {
      "text/plain": [
       "True"
      ]
     },
     "execution_count": 8,
     "metadata": {},
     "output_type": "execute_result"
    }
   ],
   "source": [
    "check = GPy.models.GradientChecker(kern.K,lambda x: grad,x0 = X.copy())\n",
    "check.checkgrad(verbose=1)"
   ]
  },
  {
   "cell_type": "markdown",
   "metadata": {},
   "source": [
    "### Kx"
   ]
  },
  {
   "cell_type": "code",
   "execution_count": 9,
   "metadata": {
    "collapsed": false
   },
   "outputs": [
    {
     "name": "stdout",
     "output_type": "stream",
     "text": [
      "[[ 1.62550013  0.87716588 -0.48312099]\n",
      " [-0.99091366  0.1363673  -0.07468656]\n",
      " [-0.12669421  0.55855895 -1.44955149]\n",
      " [-0.54234978 -1.26102945 -0.69858721]\n",
      " [ 0.58789571  0.33036005 -1.40275248]]\n"
     ]
    }
   ],
   "source": [
    "N, Q = 10, 3\n",
    "X = numpy.random.randn(N-5,Q)\n",
    "print(X)"
   ]
  },
  {
   "cell_type": "code",
   "execution_count": 10,
   "metadata": {
    "collapsed": false
   },
   "outputs": [
    {
     "name": "stdout",
     "output_type": "stream",
     "text": [
      "[[ 3.64507654 -1.4550309   0.98431615 -1.6502195   1.92310428]\n",
      " [-1.4550309   1.00608401  0.30997421  0.41763369 -0.43273682]\n",
      " [ 0.98431615  0.30997421  2.42923903  0.37699142  2.14340453]\n",
      " [-1.6502195   0.41763369  0.37699142  2.37236265  0.24450608]\n",
      " [ 1.92310428 -0.43273682  2.14340453  0.24450608  2.42247365]]\n"
     ]
    }
   ],
   "source": [
    "kern1 = GPy.kern.Linear(Q, ARD=True)\n",
    "print(kern1.K(X))"
   ]
  },
  {
   "cell_type": "code",
   "execution_count": 11,
   "metadata": {
    "collapsed": false
   },
   "outputs": [
    {
     "name": "stdout",
     "output_type": "stream",
     "text": [
      "[[ 2.07519714 -1.13445255 -1.12957854]\n",
      " [ 2.07519714 -1.13445255 -1.12957854]\n",
      " [ 2.07519714 -1.13445255 -1.12957854]\n",
      " [ 2.07519714 -1.13445255 -1.12957854]\n",
      " [ 2.07519714 -1.13445255 -1.12957854]]\n"
     ]
    }
   ],
   "source": [
    "grad1 = kern1.gradients_X(numpy.ones((5,5)), X)\n",
    "print(grad)"
   ]
  },
  {
   "cell_type": "code",
   "execution_count": 12,
   "metadata": {
    "collapsed": false
   },
   "outputs": [
    {
     "name": "stdout",
     "output_type": "stream",
     "text": [
      "[[ 1.          0.02280875  0.12836961  0.00947651  0.32933796]\n",
      " [ 0.02280875  1.          0.24470856  0.28038556  0.11683231]\n",
      " [ 0.12836961  0.24470856  1.          0.13215109  0.75393297]\n",
      " [ 0.00947651  0.28038556  0.13215109  1.          0.11614544]\n",
      " [ 0.32933796  0.11683231  0.75393297  0.11614544  1.        ]]\n"
     ]
    }
   ],
   "source": [
    "kern2 = GPy.kern.RBF(Q, ARD=True)\n",
    "print(kern2.K(X))"
   ]
  },
  {
   "cell_type": "code",
   "execution_count": 13,
   "metadata": {
    "collapsed": false
   },
   "outputs": [
    {
     "name": "stdout",
     "output_type": "stream",
     "text": [
      "[[-1.29374359 -0.51628536 -0.83931171]\n",
      " [ 1.16277159 -0.4978693  -1.35170167]\n",
      " [ 0.99454031 -0.94984344  1.19005116]\n",
      " [ 0.16195003  1.67473143 -0.00810346]\n",
      " [-1.02551834  0.28926666  1.00906568]]\n"
     ]
    }
   ],
   "source": [
    "grad2 = kern2.gradients_X(numpy.ones((5,5)), X)\n",
    "print(grad2)"
   ]
  },
  {
   "cell_type": "code",
   "execution_count": 14,
   "metadata": {
    "collapsed": false
   },
   "outputs": [
    {
     "name": "stdout",
     "output_type": "stream",
     "text": [
      "[[  1.00225590e+02  -9.42155649e-02   7.81326585e+00  -2.74903313e-01\n",
      "    2.49765774e+01]\n",
      " [ -9.42155649e-02   8.07323046e+00   2.24795823e+00   2.84899757e+00\n",
      "    1.82538205e-01]\n",
      " [  7.81326585e+00   2.24795823e+00   4.03267549e+01   2.61092082e+00\n",
      "    3.10599552e+01]\n",
      " [ -2.74903313e-01   2.84899757e+00   2.61092082e+00   3.83533066e+01\n",
      "    1.92748527e+00]\n",
      " [  2.49765774e+01   1.82538205e-01   3.10599552e+01   1.92748527e+00\n",
      "    4.00885494e+01]]\n"
     ]
    }
   ],
   "source": [
    "kern3 = GPy.kern.Poly(Q)\n",
    "print(kern3.K(X))"
   ]
  },
  {
   "cell_type": "code",
   "execution_count": 15,
   "metadata": {
    "collapsed": false
   },
   "outputs": [
    {
     "ename": "NotImplementedError",
     "evalue": "",
     "output_type": "error",
     "traceback": [
      "\u001b[1;31m---------------------------------------------------------------------------\u001b[0m",
      "\u001b[1;31mNotImplementedError\u001b[0m                       Traceback (most recent call last)",
      "\u001b[1;32m<ipython-input-15-4ddbd3207a40>\u001b[0m in \u001b[0;36m<module>\u001b[1;34m()\u001b[0m\n\u001b[1;32m----> 1\u001b[1;33m \u001b[0mgrad3\u001b[0m \u001b[1;33m=\u001b[0m \u001b[0mkern3\u001b[0m\u001b[1;33m.\u001b[0m\u001b[0mgradients_X\u001b[0m\u001b[1;33m(\u001b[0m\u001b[0mnumpy\u001b[0m\u001b[1;33m.\u001b[0m\u001b[0mones\u001b[0m\u001b[1;33m(\u001b[0m\u001b[1;33m(\u001b[0m\u001b[1;36m1\u001b[0m\u001b[1;33m,\u001b[0m\u001b[1;36m1\u001b[0m\u001b[1;33m)\u001b[0m\u001b[1;33m)\u001b[0m\u001b[1;33m,\u001b[0m \u001b[0mX\u001b[0m\u001b[1;33m)\u001b[0m\u001b[1;33m\u001b[0m\u001b[0m\n\u001b[0m\u001b[0;32m      2\u001b[0m \u001b[0mprint\u001b[0m\u001b[1;33m(\u001b[0m\u001b[0mgrad3\u001b[0m\u001b[1;33m)\u001b[0m\u001b[1;33m\u001b[0m\u001b[0m\n",
      "\u001b[1;32mC:\\Users\\Maxim\\Anaconda3\\lib\\site-packages\\GPy\\kern\\src\\kernel_slice_operations.py\u001b[0m in \u001b[0;36mwrap\u001b[1;34m(self, dL_dK, X, X2)\u001b[0m\n\u001b[0;32m    109\u001b[0m     \u001b[1;32mdef\u001b[0m \u001b[0mwrap\u001b[0m\u001b[1;33m(\u001b[0m\u001b[0mself\u001b[0m\u001b[1;33m,\u001b[0m \u001b[0mdL_dK\u001b[0m\u001b[1;33m,\u001b[0m \u001b[0mX\u001b[0m\u001b[1;33m,\u001b[0m \u001b[0mX2\u001b[0m\u001b[1;33m=\u001b[0m\u001b[1;32mNone\u001b[0m\u001b[1;33m)\u001b[0m\u001b[1;33m:\u001b[0m\u001b[1;33m\u001b[0m\u001b[0m\n\u001b[0;32m    110\u001b[0m         \u001b[1;32mwith\u001b[0m \u001b[0m_Slice_wrap\u001b[0m\u001b[1;33m(\u001b[0m\u001b[0mself\u001b[0m\u001b[1;33m,\u001b[0m \u001b[0mX\u001b[0m\u001b[1;33m,\u001b[0m \u001b[0mX2\u001b[0m\u001b[1;33m)\u001b[0m \u001b[1;32mas\u001b[0m \u001b[0ms\u001b[0m\u001b[1;33m:\u001b[0m\u001b[1;33m\u001b[0m\u001b[0m\n\u001b[1;32m--> 111\u001b[1;33m             \u001b[0mret\u001b[0m \u001b[1;33m=\u001b[0m \u001b[0ms\u001b[0m\u001b[1;33m.\u001b[0m\u001b[0mhandle_return_array\u001b[0m\u001b[1;33m(\u001b[0m\u001b[0mf\u001b[0m\u001b[1;33m(\u001b[0m\u001b[0mself\u001b[0m\u001b[1;33m,\u001b[0m \u001b[0mdL_dK\u001b[0m\u001b[1;33m,\u001b[0m \u001b[0ms\u001b[0m\u001b[1;33m.\u001b[0m\u001b[0mX\u001b[0m\u001b[1;33m,\u001b[0m \u001b[0ms\u001b[0m\u001b[1;33m.\u001b[0m\u001b[0mX2\u001b[0m\u001b[1;33m)\u001b[0m\u001b[1;33m)\u001b[0m\u001b[1;33m\u001b[0m\u001b[0m\n\u001b[0m\u001b[0;32m    112\u001b[0m         \u001b[1;32mreturn\u001b[0m \u001b[0mret\u001b[0m\u001b[1;33m\u001b[0m\u001b[0m\n\u001b[0;32m    113\u001b[0m     \u001b[1;32mreturn\u001b[0m \u001b[0mwrap\u001b[0m\u001b[1;33m\u001b[0m\u001b[0m\n",
      "\u001b[1;32mC:\\Users\\Maxim\\Anaconda3\\lib\\site-packages\\GPy\\kern\\src\\poly.py\u001b[0m in \u001b[0;36mgradients_X\u001b[1;34m(self, dL_dK, X, X2)\u001b[0m\n\u001b[0;32m     54\u001b[0m \u001b[1;33m\u001b[0m\u001b[0m\n\u001b[0;32m     55\u001b[0m     \u001b[1;32mdef\u001b[0m \u001b[0mgradients_X\u001b[0m\u001b[1;33m(\u001b[0m\u001b[0mself\u001b[0m\u001b[1;33m,\u001b[0m \u001b[0mdL_dK\u001b[0m\u001b[1;33m,\u001b[0m \u001b[0mX\u001b[0m\u001b[1;33m,\u001b[0m \u001b[0mX2\u001b[0m\u001b[1;33m=\u001b[0m\u001b[1;32mNone\u001b[0m\u001b[1;33m)\u001b[0m\u001b[1;33m:\u001b[0m\u001b[1;33m\u001b[0m\u001b[0m\n\u001b[1;32m---> 56\u001b[1;33m         \u001b[1;32mraise\u001b[0m \u001b[0mNotImplementedError\u001b[0m\u001b[1;33m\u001b[0m\u001b[0m\n\u001b[0m\u001b[0;32m     57\u001b[0m \u001b[1;33m\u001b[0m\u001b[0m\n\u001b[0;32m     58\u001b[0m     \u001b[1;32mdef\u001b[0m \u001b[0mgradients_X_diag\u001b[0m\u001b[1;33m(\u001b[0m\u001b[0mself\u001b[0m\u001b[1;33m,\u001b[0m \u001b[0mdL_dKdiag\u001b[0m\u001b[1;33m,\u001b[0m \u001b[0mX\u001b[0m\u001b[1;33m)\u001b[0m\u001b[1;33m:\u001b[0m\u001b[1;33m\u001b[0m\u001b[0m\n",
      "\u001b[1;31mNotImplementedError\u001b[0m: "
     ]
    }
   ],
   "source": [
    "grad3 = kern3.gradients_X(numpy.ones((1,1)), X)\n",
    "print(grad3)"
   ]
  },
  {
   "cell_type": "code",
   "execution_count": 16,
   "metadata": {
    "collapsed": false
   },
   "outputs": [
    {
     "name": "stdout",
     "output_type": "stream",
     "text": [
      "[[ 1.          0.04375555  0.10729796  0.03122698  0.22447035]\n",
      " [ 0.04375555  1.          0.17250426  0.19379396  0.10097229]\n",
      " [ 0.10729796  0.17250426  1.          0.10936823  0.60802003]\n",
      " [ 0.03122698  0.19379396  0.10936823  1.          0.10059497]\n",
      " [ 0.22447035  0.10097229  0.60802003  0.10059497  1.        ]]\n"
     ]
    }
   ],
   "source": [
    "kern4 = GPy.kern.RatQuad(Q, ARD=True)\n",
    "print(kern4.K(X))"
   ]
  },
  {
   "cell_type": "code",
   "execution_count": 17,
   "metadata": {
    "collapsed": false
   },
   "outputs": [
    {
     "name": "stdout",
     "output_type": "stream",
     "text": [
      "[[-0.83137416 -0.35172088 -0.51688311]\n",
      " [ 0.69916162 -0.30384521 -0.79232393]\n",
      " [ 1.29369531 -0.7722175   0.72728716]\n",
      " [ 0.09915786  0.9904015   0.01914757]\n",
      " [-1.26064063  0.43738209  0.56277231]]\n"
     ]
    }
   ],
   "source": [
    "grad4 = kern4.gradients_X(numpy.ones((5,5)), X)\n",
    "print(grad4)"
   ]
  },
  {
   "cell_type": "code",
   "execution_count": 18,
   "metadata": {
    "collapsed": false
   },
   "outputs": [
    {
     "name": "stdout",
     "output_type": "stream",
     "text": [
      "[[ 0.61523964 -0.07046487  0.25978387 -0.0835593   0.3978331 ]\n",
      " [-0.07046487  0.4651355   0.23376619  0.25575934  0.09944874]\n",
      " [ 0.25978387  0.23376619  0.56372283  0.20260241  0.50282416]\n",
      " [-0.0835593   0.25575934  0.20260241  0.56077705  0.18266788]\n",
      " [ 0.3978331   0.09944874  0.50282416  0.18266788  0.56337554]]\n"
     ]
    }
   ],
   "source": [
    "kern5 = GPy.kern.MLP(Q, ARD=True)\n",
    "print(kern5.K(X))"
   ]
  },
  {
   "cell_type": "code",
   "execution_count": 19,
   "metadata": {
    "collapsed": false
   },
   "outputs": [
    {
     "name": "stdout",
     "output_type": "stream",
     "text": [
      "[[-0.51832308 -0.14329229 -0.98143711]\n",
      " [ 0.63075401  0.09357599 -1.44167473]\n",
      " [ 0.2210103  -0.24361108 -0.19853239]\n",
      " [ 0.26910491  0.75358425 -0.90491092]\n",
      " [-0.36408723 -0.00226811 -0.24410971]]\n"
     ]
    }
   ],
   "source": [
    "grad5 = kern5.gradients_X(numpy.ones((5,5)), X)\n",
    "print(grad5)"
   ]
  },
  {
   "cell_type": "code",
   "execution_count": 20,
   "metadata": {
    "collapsed": false
   },
   "outputs": [
    {
     "name": "stdout",
     "output_type": "stream",
     "text": [
      "[[ 1.          0.04219396  0.13328554  0.02535416  0.28682667]\n",
      " [ 0.04219396  1.          0.22168133  0.24890975  0.12431927]\n",
      " [ 0.13328554  0.22168133  1.          0.13620651  0.6746466 ]\n",
      " [ 0.02535416  0.24890975  0.13620651  1.          0.12378255]\n",
      " [ 0.28682667  0.12431927  0.6746466   0.12378255  1.        ]]\n"
     ]
    }
   ],
   "source": [
    "kern6 = GPy.kern.Matern52(Q, ARD=True)\n",
    "print(kern6.K(X))"
   ]
  },
  {
   "cell_type": "code",
   "execution_count": 21,
   "metadata": {
    "collapsed": false
   },
   "outputs": [
    {
     "name": "stdout",
     "output_type": "stream",
     "text": [
      "[[-1.07748686 -0.44343946 -0.6513506 ]\n",
      " [ 0.93568572 -0.3711685  -1.04281994]\n",
      " [ 1.13118188 -0.844475    0.93409662]\n",
      " [ 0.15835221  1.32174897 -0.00641965]\n",
      " [-1.14773294  0.33733398  0.76649358]]\n"
     ]
    }
   ],
   "source": [
    "grad6 = kern6.gradients_X(numpy.ones((5,5)), X)\n",
    "print(grad6)"
   ]
  },
  {
   "cell_type": "code",
   "execution_count": 22,
   "metadata": {
    "collapsed": false
   },
   "outputs": [
    {
     "name": "stdout",
     "output_type": "stream",
     "text": [
      "[[ 7.26031618 -1.41673752  1.61305312 -1.66772115  3.16157237]\n",
      " [-1.41673752  4.47121951  1.18263455  1.3964823   0.00883578]\n",
      " [ 1.61305312  1.18263455  5.99296187  0.95731965  4.68282829]\n",
      " [-1.66772115  1.3964823   0.95731965  5.9331397   0.76769693]\n",
      " [ 3.16157237  0.00883578  4.68282829  0.76769693  5.9858492 ]]\n"
     ]
    }
   ],
   "source": [
    "kern = kern1 + kern2 + kern4 + kern5 + kern6# + kern3\n",
    "print(kern.K(X))"
   ]
  },
  {
   "cell_type": "code",
   "execution_count": 23,
   "metadata": {
    "collapsed": false
   },
   "outputs": [
    {
     "name": "stdout",
     "output_type": "stream",
     "text": [
      "[[ -2.61405131  -0.17189251 -11.20637998]\n",
      " [  4.53524932   0.20353846 -12.84591772]\n",
      " [  4.74730418  -1.52730155  -5.5644949 ]\n",
      " [  1.79544139   6.02331162  -9.11768392]\n",
      " [ -2.69110277   2.34456009  -6.1231756 ]]\n"
     ]
    }
   ],
   "source": [
    "grad = kern.gradients_X(numpy.ones((5,5)), X)\n",
    "print(grad)"
   ]
  },
  {
   "cell_type": "code",
   "execution_count": 24,
   "metadata": {
    "collapsed": false
   },
   "outputs": [
    {
     "name": "stdout",
     "output_type": "stream",
     "text": [
      "            Name             |     Ratio     |  Difference   |  Analytical   |   Numerical   |   dF_ratio    \n",
      "-------------------------------------------------------------------------------------------------------------\n",
      "\u001b[92m GradientChecker.X[[0 0]] \u001b[0m   |   1.000000    |   0.000000    |   2.614051    |   2.614051    |     1e-07     \n",
      "\u001b[92m GradientChecker.X[[0 1]] \u001b[0m   |   1.000000    |   0.000000    |   0.171893    |   0.171893    |     7e-09     \n",
      "\u001b[92m GradientChecker.X[[0 2]] \u001b[0m   |   1.000000    |   0.000000    |   11.206380   |   11.206380   |     4e-07     \n",
      "\u001b[92m GradientChecker.X[[1 0]] \u001b[0m   |   1.000000    |   0.000000    |   -4.535249   |   -4.535249   |     2e-07     \n",
      "\u001b[92m GradientChecker.X[[1 1]] \u001b[0m   |   1.000000    |   0.000000    |   -0.203538   |   -0.203538   |     8e-09     \n",
      "\u001b[92m GradientChecker.X[[1 2]] \u001b[0m   |   1.000000    |   0.000000    |   12.845918   |   12.845918   |     5e-07     \n",
      "\u001b[92m GradientChecker.X[[2 0]] \u001b[0m   |   1.000000    |   0.000000    |   -4.747304   |   -4.747304   |     2e-07     \n",
      "\u001b[92m GradientChecker.X[[2 1]] \u001b[0m   |   1.000000    |   0.000000    |   1.527302    |   1.527302    |     6e-08     \n",
      "\u001b[92m GradientChecker.X[[2 2]] \u001b[0m   |   1.000000    |   0.000000    |   5.564495    |   5.564495    |     2e-07     \n",
      "\u001b[92m GradientChecker.X[[3 0]] \u001b[0m   |   1.000000    |   0.000000    |   -1.795441   |   -1.795441   |     7e-08     \n",
      "\u001b[92m GradientChecker.X[[3 1]] \u001b[0m   |   1.000000    |   0.000000    |   -6.023312   |   -6.023312   |     2e-07     \n",
      "\u001b[92m GradientChecker.X[[3 2]] \u001b[0m   |   1.000000    |   0.000000    |   9.117684    |   9.117684    |     4e-07     \n",
      "\u001b[92m GradientChecker.X[[4 0]] \u001b[0m   |   1.000000    |   0.000000    |   2.691103    |   2.691103    |     1e-07     \n",
      "\u001b[92m GradientChecker.X[[4 1]] \u001b[0m   |   1.000000    |   0.000000    |   -2.344560   |   -2.344560   |     9e-08     \n",
      "\u001b[92m GradientChecker.X[[4 2]] \u001b[0m   |   1.000000    |   0.000000    |   6.123176    |   6.123176    |     2e-07     \n"
     ]
    },
    {
     "data": {
      "text/plain": [
       "True"
      ]
     },
     "execution_count": 24,
     "metadata": {},
     "output_type": "execute_result"
    }
   ],
   "source": [
    "check = GPy.models.GradientChecker(kern.K,lambda x: grad,x0 = X.copy())\n",
    "check.checkgrad(verbose=1)"
   ]
  },
  {
   "cell_type": "markdown",
   "metadata": {},
   "source": [
    "Using lambda function notation:"
   ]
  },
  {
   "cell_type": "code",
   "execution_count": 35,
   "metadata": {
    "collapsed": false
   },
   "outputs": [
    {
     "name": "stdout",
     "output_type": "stream",
     "text": [
      "            Name             |     Ratio     |  Difference   |  Analytical   |   Numerical   |   dF_ratio    \n",
      "-------------------------------------------------------------------------------------------------------------\n",
      "\u001b[92m GradientChecker.X[[0 0]] \u001b[0m   |   1.000000    |   0.000000    |   2.614051    |   2.614051    |     1e-07     \n",
      "\u001b[92m GradientChecker.X[[0 1]] \u001b[0m   |   1.000000    |   0.000000    |   0.171893    |   0.171893    |     7e-09     \n",
      "\u001b[92m GradientChecker.X[[0 2]] \u001b[0m   |   1.000000    |   0.000000    |   11.206380   |   11.206380   |     4e-07     \n",
      "\u001b[92m GradientChecker.X[[1 0]] \u001b[0m   |   1.000000    |   0.000000    |   -4.535249   |   -4.535249   |     2e-07     \n",
      "\u001b[92m GradientChecker.X[[1 1]] \u001b[0m   |   1.000000    |   0.000000    |   -0.203538   |   -0.203538   |     8e-09     \n",
      "\u001b[92m GradientChecker.X[[1 2]] \u001b[0m   |   1.000000    |   0.000000    |   12.845918   |   12.845918   |     5e-07     \n",
      "\u001b[92m GradientChecker.X[[2 0]] \u001b[0m   |   1.000000    |   0.000000    |   -4.747304   |   -4.747304   |     2e-07     \n",
      "\u001b[92m GradientChecker.X[[2 1]] \u001b[0m   |   1.000000    |   0.000000    |   1.527302    |   1.527302    |     6e-08     \n",
      "\u001b[92m GradientChecker.X[[2 2]] \u001b[0m   |   1.000000    |   0.000000    |   5.564495    |   5.564495    |     2e-07     \n",
      "\u001b[92m GradientChecker.X[[3 0]] \u001b[0m   |   1.000000    |   0.000000    |   -1.795441   |   -1.795441   |     7e-08     \n",
      "\u001b[92m GradientChecker.X[[3 1]] \u001b[0m   |   1.000000    |   0.000000    |   -6.023312   |   -6.023312   |     2e-07     \n",
      "\u001b[92m GradientChecker.X[[3 2]] \u001b[0m   |   1.000000    |   0.000000    |   9.117684    |   9.117684    |     4e-07     \n",
      "\u001b[92m GradientChecker.X[[4 0]] \u001b[0m   |   1.000000    |   0.000000    |   2.691103    |   2.691103    |     1e-07     \n",
      "\u001b[92m GradientChecker.X[[4 1]] \u001b[0m   |   1.000000    |   0.000000    |   -2.344560   |   -2.344560   |     9e-08     \n",
      "\u001b[92m GradientChecker.X[[4 2]] \u001b[0m   |   1.000000    |   0.000000    |   6.123176    |   6.123176    |     2e-07     \n"
     ]
    },
    {
     "data": {
      "text/plain": [
       "True"
      ]
     },
     "execution_count": 35,
     "metadata": {},
     "output_type": "execute_result"
    }
   ],
   "source": [
    "check = GPy.models.GradientChecker(lambda a: kern.K(a),lambda b: grad,x0 = X.copy())\n",
    "check.checkgrad(verbose=1)"
   ]
  },
  {
   "cell_type": "markdown",
   "metadata": {},
   "source": [
    "### Function 2 gradient"
   ]
  },
  {
   "cell_type": "code",
   "execution_count": 26,
   "metadata": {
    "collapsed": true
   },
   "outputs": [],
   "source": [
    "def f2_likelihood(N,Q,Kx,X,W):\n",
    "    \n",
    "    alpha = 1\n",
    "    Kx_inv = np.linalg.inv(Kx)\n",
    "    part1 = 0.5*Q*np.log(np.linalg.det(Kx_inv))\n",
    "    part2 = 0.5*np.trace(Kx_inv*np.matmul(X[1:N],np.transpose(X[1:N])))\n",
    "    part3 = alpha*np.linalg.norm(W,2)\n",
    "\n",
    "    return part1 + part2 + part3"
   ]
  },
  {
   "cell_type": "code",
   "execution_count": 27,
   "metadata": {
    "collapsed": true
   },
   "outputs": [],
   "source": [
    "def f2_gradient(N,Q,Kx,X,W):\n",
    "    \n",
    "    Kx_inv = np.linalg.inv(Kx)    \n",
    "    \n",
    "    dF_dKx = 0.5*Q*np.transpose(Kx_inv)-0.5*np.transpose(np.matmul((Kx_inv*np.matmul(X[1:N],np.transpose(X[1:N]))),Kx_inv))\n",
    "    \n",
    "    dF_dW = np.sum(dF_dKx) * np.sum(Kx) + W/np.linalg.norm(W,2)\n",
    "    \n",
    "    return dF_dW"
   ]
  },
  {
   "cell_type": "code",
   "execution_count": 29,
   "metadata": {
    "collapsed": false
   },
   "outputs": [
    {
     "name": "stdout",
     "output_type": "stream",
     "text": [
      "            Name             |     Ratio     |  Difference   |  Analytical   |   Numerical   |   dF_ratio    \n",
      "-------------------------------------------------------------------------------------------------------------\n"
     ]
    },
    {
     "ename": "NameError",
     "evalue": "name 'Kx' is not defined",
     "output_type": "error",
     "traceback": [
      "\u001b[1;31m---------------------------------------------------------------------------\u001b[0m",
      "\u001b[1;31mNameError\u001b[0m                                 Traceback (most recent call last)",
      "\u001b[1;32m<ipython-input-29-ea9b2f4b1626>\u001b[0m in \u001b[0;36m<module>\u001b[1;34m()\u001b[0m\n\u001b[0;32m      1\u001b[0m \u001b[0mcheck\u001b[0m \u001b[1;33m=\u001b[0m \u001b[0mGPy\u001b[0m\u001b[1;33m.\u001b[0m\u001b[0mmodels\u001b[0m\u001b[1;33m.\u001b[0m\u001b[0mGradientChecker\u001b[0m\u001b[1;33m(\u001b[0m\u001b[1;32mlambda\u001b[0m \u001b[0mX\u001b[0m\u001b[1;33m:\u001b[0m \u001b[0mf2_likelihood\u001b[0m\u001b[1;33m(\u001b[0m\u001b[0mN\u001b[0m\u001b[1;33m,\u001b[0m\u001b[0mQ\u001b[0m\u001b[1;33m,\u001b[0m\u001b[0mKx\u001b[0m\u001b[1;33m,\u001b[0m\u001b[0mX\u001b[0m\u001b[1;33m,\u001b[0m\u001b[0mweights\u001b[0m\u001b[1;33m)\u001b[0m\u001b[1;33m,\u001b[0m\u001b[1;32mlambda\u001b[0m \u001b[0mx\u001b[0m\u001b[1;33m:\u001b[0m \u001b[0mf2_gradient\u001b[0m\u001b[1;33m(\u001b[0m\u001b[0mN\u001b[0m\u001b[1;33m,\u001b[0m\u001b[0mQ\u001b[0m\u001b[1;33m,\u001b[0m\u001b[0mKx\u001b[0m\u001b[1;33m,\u001b[0m\u001b[0mx\u001b[0m\u001b[1;33m,\u001b[0m\u001b[0mW\u001b[0m\u001b[1;33m)\u001b[0m\u001b[1;33m,\u001b[0m\u001b[0mx0\u001b[0m \u001b[1;33m=\u001b[0m \u001b[0mX\u001b[0m\u001b[1;33m.\u001b[0m\u001b[0mcopy\u001b[0m\u001b[1;33m(\u001b[0m\u001b[1;33m)\u001b[0m\u001b[1;33m)\u001b[0m\u001b[1;33m\u001b[0m\u001b[0m\n\u001b[1;32m----> 2\u001b[1;33m \u001b[0mcheck\u001b[0m\u001b[1;33m.\u001b[0m\u001b[0mcheckgrad\u001b[0m\u001b[1;33m(\u001b[0m\u001b[0mverbose\u001b[0m\u001b[1;33m=\u001b[0m\u001b[1;36m1\u001b[0m\u001b[1;33m)\u001b[0m\u001b[1;33m\u001b[0m\u001b[0m\n\u001b[0m",
      "\u001b[1;32mC:\\Users\\Maxim\\Anaconda3\\lib\\site-packages\\paramz\\core\\gradcheckable.py\u001b[0m in \u001b[0;36mcheckgrad\u001b[1;34m(self, verbose, step, tolerance, df_tolerance)\u001b[0m\n\u001b[0;32m     67\u001b[0m         \u001b[1;32mif\u001b[0m \u001b[0mself\u001b[0m\u001b[1;33m.\u001b[0m\u001b[0mhas_parent\u001b[0m\u001b[1;33m(\u001b[0m\u001b[1;33m)\u001b[0m\u001b[1;33m:\u001b[0m\u001b[1;33m\u001b[0m\u001b[0m\n\u001b[0;32m     68\u001b[0m             \u001b[1;32mreturn\u001b[0m \u001b[0mself\u001b[0m\u001b[1;33m.\u001b[0m\u001b[0m_highest_parent_\u001b[0m\u001b[1;33m.\u001b[0m\u001b[0m_checkgrad\u001b[0m\u001b[1;33m(\u001b[0m\u001b[0mself\u001b[0m\u001b[1;33m,\u001b[0m \u001b[0mverbose\u001b[0m\u001b[1;33m=\u001b[0m\u001b[0mverbose\u001b[0m\u001b[1;33m,\u001b[0m \u001b[0mstep\u001b[0m\u001b[1;33m=\u001b[0m\u001b[0mstep\u001b[0m\u001b[1;33m,\u001b[0m \u001b[0mtolerance\u001b[0m\u001b[1;33m=\u001b[0m\u001b[0mtolerance\u001b[0m\u001b[1;33m,\u001b[0m \u001b[0mdf_tolerance\u001b[0m\u001b[1;33m=\u001b[0m\u001b[0mdf_tolerance\u001b[0m\u001b[1;33m)\u001b[0m\u001b[1;33m\u001b[0m\u001b[0m\n\u001b[1;32m---> 69\u001b[1;33m         \u001b[1;32mreturn\u001b[0m \u001b[0mself\u001b[0m\u001b[1;33m.\u001b[0m\u001b[0m_checkgrad\u001b[0m\u001b[1;33m(\u001b[0m\u001b[0mself\u001b[0m\u001b[1;33m,\u001b[0m \u001b[0mverbose\u001b[0m\u001b[1;33m=\u001b[0m\u001b[0mverbose\u001b[0m\u001b[1;33m,\u001b[0m \u001b[0mstep\u001b[0m\u001b[1;33m=\u001b[0m\u001b[0mstep\u001b[0m\u001b[1;33m,\u001b[0m \u001b[0mtolerance\u001b[0m\u001b[1;33m=\u001b[0m\u001b[0mtolerance\u001b[0m\u001b[1;33m,\u001b[0m \u001b[0mdf_tolerance\u001b[0m\u001b[1;33m=\u001b[0m\u001b[0mdf_tolerance\u001b[0m\u001b[1;33m)\u001b[0m\u001b[1;33m\u001b[0m\u001b[0m\n\u001b[0m\u001b[0;32m     70\u001b[0m \u001b[1;33m\u001b[0m\u001b[0m\n\u001b[0;32m     71\u001b[0m     \u001b[1;32mdef\u001b[0m \u001b[0m_checkgrad\u001b[0m\u001b[1;33m(\u001b[0m\u001b[0mself\u001b[0m\u001b[1;33m,\u001b[0m \u001b[0mparam\u001b[0m\u001b[1;33m,\u001b[0m \u001b[0mverbose\u001b[0m\u001b[1;33m=\u001b[0m\u001b[1;36m0\u001b[0m\u001b[1;33m,\u001b[0m \u001b[0mstep\u001b[0m\u001b[1;33m=\u001b[0m\u001b[1;36m1e-6\u001b[0m\u001b[1;33m,\u001b[0m \u001b[0mtolerance\u001b[0m\u001b[1;33m=\u001b[0m\u001b[1;36m1e-3\u001b[0m\u001b[1;33m,\u001b[0m \u001b[0mdf_tolerance\u001b[0m\u001b[1;33m=\u001b[0m\u001b[1;36m1e-12\u001b[0m\u001b[1;33m)\u001b[0m\u001b[1;33m:\u001b[0m\u001b[1;33m\u001b[0m\u001b[0m\n",
      "\u001b[1;32mC:\\Users\\Maxim\\Anaconda3\\lib\\site-packages\\paramz\\model.py\u001b[0m in \u001b[0;36m_checkgrad\u001b[1;34m(self, target_param, verbose, step, tolerance, df_tolerance)\u001b[0m\n\u001b[0;32m    362\u001b[0m                 \u001b[1;32mreturn\u001b[0m \u001b[1;32mTrue\u001b[0m\u001b[1;33m\u001b[0m\u001b[0m\n\u001b[0;32m    363\u001b[0m \u001b[1;33m\u001b[0m\u001b[0m\n\u001b[1;32m--> 364\u001b[1;33m             \u001b[0mgradient\u001b[0m \u001b[1;33m=\u001b[0m \u001b[0mself\u001b[0m\u001b[1;33m.\u001b[0m\u001b[0m_grads\u001b[0m\u001b[1;33m(\u001b[0m\u001b[0mx\u001b[0m\u001b[1;33m)\u001b[0m\u001b[1;33m.\u001b[0m\u001b[0mcopy\u001b[0m\u001b[1;33m(\u001b[0m\u001b[1;33m)\u001b[0m\u001b[1;33m\u001b[0m\u001b[0m\n\u001b[0m\u001b[0;32m    365\u001b[0m             \u001b[0mnp\u001b[0m\u001b[1;33m.\u001b[0m\u001b[0mwhere\u001b[0m\u001b[1;33m(\u001b[0m\u001b[0mgradient\u001b[0m \u001b[1;33m==\u001b[0m \u001b[1;36m0\u001b[0m\u001b[1;33m,\u001b[0m \u001b[1;36m1e-312\u001b[0m\u001b[1;33m,\u001b[0m \u001b[0mgradient\u001b[0m\u001b[1;33m)\u001b[0m\u001b[1;33m\u001b[0m\u001b[0m\n\u001b[0;32m    366\u001b[0m             \u001b[0mret\u001b[0m \u001b[1;33m=\u001b[0m \u001b[1;32mTrue\u001b[0m\u001b[1;33m\u001b[0m\u001b[0m\n",
      "\u001b[1;32mC:\\Users\\Maxim\\Anaconda3\\lib\\site-packages\\paramz\\model.py\u001b[0m in \u001b[0;36m_grads\u001b[1;34m(self, x)\u001b[0m\n\u001b[0;32m    234\u001b[0m             \u001b[1;31m# self._set_params_transformed(x)\u001b[0m\u001b[1;33m\u001b[0m\u001b[1;33m\u001b[0m\u001b[0m\n\u001b[0;32m    235\u001b[0m             \u001b[0mself\u001b[0m\u001b[1;33m.\u001b[0m\u001b[0moptimizer_array\u001b[0m \u001b[1;33m=\u001b[0m \u001b[0mx\u001b[0m\u001b[1;33m\u001b[0m\u001b[0m\n\u001b[1;32m--> 236\u001b[1;33m             \u001b[0mself\u001b[0m\u001b[1;33m.\u001b[0m\u001b[0mobj_grads\u001b[0m \u001b[1;33m=\u001b[0m \u001b[0mself\u001b[0m\u001b[1;33m.\u001b[0m\u001b[0m_transform_gradients\u001b[0m\u001b[1;33m(\u001b[0m\u001b[0mself\u001b[0m\u001b[1;33m.\u001b[0m\u001b[0mobjective_function_gradients\u001b[0m\u001b[1;33m(\u001b[0m\u001b[1;33m)\u001b[0m\u001b[1;33m)\u001b[0m\u001b[1;33m\u001b[0m\u001b[0m\n\u001b[0m\u001b[0;32m    237\u001b[0m             \u001b[0mself\u001b[0m\u001b[1;33m.\u001b[0m\u001b[0m_fail_count\u001b[0m \u001b[1;33m=\u001b[0m \u001b[1;36m0\u001b[0m\u001b[1;33m\u001b[0m\u001b[0m\n\u001b[0;32m    238\u001b[0m         \u001b[1;32mexcept\u001b[0m \u001b[1;33m(\u001b[0m\u001b[0mLinAlgError\u001b[0m\u001b[1;33m,\u001b[0m \u001b[0mZeroDivisionError\u001b[0m\u001b[1;33m,\u001b[0m \u001b[0mValueError\u001b[0m\u001b[1;33m)\u001b[0m\u001b[1;33m:\u001b[0m \u001b[1;31m#pragma: no cover\u001b[0m\u001b[1;33m\u001b[0m\u001b[0m\n",
      "\u001b[1;32mC:\\Users\\Maxim\\Anaconda3\\lib\\site-packages\\GPy\\core\\model.py\u001b[0m in \u001b[0;36mobjective_function_gradients\u001b[1;34m(self)\u001b[0m\n\u001b[0;32m     46\u001b[0m         \u001b[0mprobabilistic\u001b[0m\u001b[1;33m,\u001b[0m \u001b[0mjust\u001b[0m \u001b[1;32mreturn\u001b[0m \u001b[0myour\u001b[0m \u001b[1;33m*\u001b[0m\u001b[0mnegative\u001b[0m\u001b[1;33m*\u001b[0m \u001b[0mgradient\u001b[0m \u001b[0mhere\u001b[0m\u001b[0;31m!\u001b[0m\u001b[1;33m\u001b[0m\u001b[0m\n\u001b[0;32m     47\u001b[0m         \"\"\"\n\u001b[1;32m---> 48\u001b[1;33m         \u001b[1;32mreturn\u001b[0m \u001b[1;33m-\u001b[0m\u001b[1;33m(\u001b[0m\u001b[0mself\u001b[0m\u001b[1;33m.\u001b[0m\u001b[0m_log_likelihood_gradients\u001b[0m\u001b[1;33m(\u001b[0m\u001b[1;33m)\u001b[0m \u001b[1;33m+\u001b[0m \u001b[0mself\u001b[0m\u001b[1;33m.\u001b[0m\u001b[0m_log_prior_gradients\u001b[0m\u001b[1;33m(\u001b[0m\u001b[1;33m)\u001b[0m\u001b[1;33m)\u001b[0m\u001b[1;33m\u001b[0m\u001b[0m\n\u001b[0m",
      "\u001b[1;32mC:\\Users\\Maxim\\Anaconda3\\lib\\site-packages\\GPy\\models\\gradient_checker.py\u001b[0m in \u001b[0;36m_log_likelihood_gradients\u001b[1;34m(self)\u001b[0m\n\u001b[0;32m     97\u001b[0m \u001b[1;33m\u001b[0m\u001b[0m\n\u001b[0;32m     98\u001b[0m     \u001b[1;32mdef\u001b[0m \u001b[0m_log_likelihood_gradients\u001b[0m\u001b[1;33m(\u001b[0m\u001b[0mself\u001b[0m\u001b[1;33m)\u001b[0m\u001b[1;33m:\u001b[0m\u001b[1;33m\u001b[0m\u001b[0m\n\u001b[1;32m---> 99\u001b[1;33m         \u001b[1;32mreturn\u001b[0m \u001b[0mnumpy\u001b[0m\u001b[1;33m.\u001b[0m\u001b[0matleast_1d\u001b[0m\u001b[1;33m(\u001b[0m\u001b[0mself\u001b[0m\u001b[1;33m.\u001b[0m\u001b[0mdf\u001b[0m\u001b[1;33m(\u001b[0m\u001b[1;33m*\u001b[0m\u001b[0mself\u001b[0m\u001b[1;33m.\u001b[0m\u001b[0m_get_x\u001b[0m\u001b[1;33m(\u001b[0m\u001b[1;33m)\u001b[0m\u001b[1;33m,\u001b[0m \u001b[1;33m**\u001b[0m\u001b[0mself\u001b[0m\u001b[1;33m.\u001b[0m\u001b[0mkwargs\u001b[0m\u001b[1;33m)\u001b[0m\u001b[1;33m)\u001b[0m\u001b[1;33m.\u001b[0m\u001b[0mflatten\u001b[0m\u001b[1;33m(\u001b[0m\u001b[1;33m)\u001b[0m\u001b[1;33m\u001b[0m\u001b[0m\n\u001b[0m\u001b[0;32m    100\u001b[0m \u001b[1;33m\u001b[0m\u001b[0m\n\u001b[0;32m    101\u001b[0m     \u001b[1;31m#def _get_params(self):\u001b[0m\u001b[1;33m\u001b[0m\u001b[1;33m\u001b[0m\u001b[0m\n",
      "\u001b[1;32m<ipython-input-29-ea9b2f4b1626>\u001b[0m in \u001b[0;36m<lambda>\u001b[1;34m(x)\u001b[0m\n\u001b[1;32m----> 1\u001b[1;33m \u001b[0mcheck\u001b[0m \u001b[1;33m=\u001b[0m \u001b[0mGPy\u001b[0m\u001b[1;33m.\u001b[0m\u001b[0mmodels\u001b[0m\u001b[1;33m.\u001b[0m\u001b[0mGradientChecker\u001b[0m\u001b[1;33m(\u001b[0m\u001b[1;32mlambda\u001b[0m \u001b[0mX\u001b[0m\u001b[1;33m:\u001b[0m \u001b[0mf2_likelihood\u001b[0m\u001b[1;33m(\u001b[0m\u001b[0mN\u001b[0m\u001b[1;33m,\u001b[0m\u001b[0mQ\u001b[0m\u001b[1;33m,\u001b[0m\u001b[0mKx\u001b[0m\u001b[1;33m,\u001b[0m\u001b[0mX\u001b[0m\u001b[1;33m,\u001b[0m\u001b[0mweights\u001b[0m\u001b[1;33m)\u001b[0m\u001b[1;33m,\u001b[0m\u001b[1;32mlambda\u001b[0m \u001b[0mx\u001b[0m\u001b[1;33m:\u001b[0m \u001b[0mf2_gradient\u001b[0m\u001b[1;33m(\u001b[0m\u001b[0mN\u001b[0m\u001b[1;33m,\u001b[0m\u001b[0mQ\u001b[0m\u001b[1;33m,\u001b[0m\u001b[0mKx\u001b[0m\u001b[1;33m,\u001b[0m\u001b[0mx\u001b[0m\u001b[1;33m,\u001b[0m\u001b[0mW\u001b[0m\u001b[1;33m)\u001b[0m\u001b[1;33m,\u001b[0m\u001b[0mx0\u001b[0m \u001b[1;33m=\u001b[0m \u001b[0mX\u001b[0m\u001b[1;33m.\u001b[0m\u001b[0mcopy\u001b[0m\u001b[1;33m(\u001b[0m\u001b[1;33m)\u001b[0m\u001b[1;33m)\u001b[0m\u001b[1;33m\u001b[0m\u001b[0m\n\u001b[0m\u001b[0;32m      2\u001b[0m \u001b[0mcheck\u001b[0m\u001b[1;33m.\u001b[0m\u001b[0mcheckgrad\u001b[0m\u001b[1;33m(\u001b[0m\u001b[0mverbose\u001b[0m\u001b[1;33m=\u001b[0m\u001b[1;36m1\u001b[0m\u001b[1;33m)\u001b[0m\u001b[1;33m\u001b[0m\u001b[0m\n",
      "\u001b[1;31mNameError\u001b[0m: name 'Kx' is not defined"
     ]
    }
   ],
   "source": [
    "check = GPy.models.GradientChecker(lambda X: f2_likelihood(N,Q,Kx,X,weights),lambda x: f2_gradient(N,Q,Kx,x,W),x0 = X.copy())\n",
    "check.checkgrad(verbose=1)"
   ]
  },
  {
   "cell_type": "code",
   "execution_count": null,
   "metadata": {
    "collapsed": true
   },
   "outputs": [],
   "source": []
  },
  {
   "cell_type": "code",
   "execution_count": null,
   "metadata": {
    "collapsed": true
   },
   "outputs": [],
   "source": []
  }
 ],
 "metadata": {
  "kernelspec": {
   "display_name": "Python 3",
   "language": "python",
   "name": "python3"
  },
  "language_info": {
   "codemirror_mode": {
    "name": "ipython",
    "version": 3
   },
   "file_extension": ".py",
   "mimetype": "text/x-python",
   "name": "python",
   "nbconvert_exporter": "python",
   "pygments_lexer": "ipython3",
   "version": "3.5.1"
  }
 },
 "nbformat": 4,
 "nbformat_minor": 0
}
